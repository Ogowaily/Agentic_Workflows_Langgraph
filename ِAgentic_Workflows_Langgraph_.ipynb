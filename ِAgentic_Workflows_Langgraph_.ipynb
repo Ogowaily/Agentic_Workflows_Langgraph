{
  "nbformat": 4,
  "nbformat_minor": 0,
  "metadata": {
    "colab": {
      "provenance": [],
      "collapsed_sections": [
        "PL_lT1vBylch",
        "uXfZ2gQzzOF3",
        "QZePMg6f0Jiy",
        "15WjhxlW1LCG",
        "3KEpROVJ2Hgz",
        "hdmuR2Lx2bFi",
        "I8ni5tjx20GD",
        "6EcImq683UHv",
        "100ie9l-xp9e",
        "-BJj49AKxyY-",
        "S_w9XrbAWZzi",
        "9u17HOGl1Ryv",
        "YJ24psu8-BST"
      ]
    },
    "kernelspec": {
      "name": "python3",
      "display_name": "Python 3"
    },
    "language_info": {
      "name": "python"
    }
  },
  "cells": [
    {
      "cell_type": "markdown",
      "source": [
        "# Agentic flow"
      ],
      "metadata": {
        "id": "PL_lT1vBylch"
      }
    },
    {
      "cell_type": "markdown",
      "source": [
        "## 🎯 The Complete Agentic AI Cycle: Plan → Act → Observe → Reflect\n",
        "\n",
        "Let me break down each element of the **Plan → Act → Observe → Reflect** cycle within Agentic AI (and how we implement it in LangGraph).\n",
        "\n",
        "---\n",
        "\n",
        "## 1️⃣ **Plan (Planning Phase)**\n",
        "\n",
        "**📍 Position:** After the LLM understands user intent (Parsing)\n",
        "\n",
        "**⚡ What it does:**\n",
        "- Converts user intent into an executable plan\n",
        "- Determines: Which tool is appropriate? What's the first step? If results are unclear, should I ask the user again?\n",
        "\n",
        "**🛠️ Examples:**\n",
        "- User says: *\"Calculate Biden's age × 2\"* → Plan = (Search for Biden's age) + (Multiply × 2 with calculator)\n",
        "\n",
        "---\n",
        "\n",
        "## 2️⃣ **Act (Execution Phase)**\n",
        "\n",
        "**📍 Position:** Tool execution stage\n",
        "\n",
        "**⚡ What it does:**\n",
        "- Executes the steps defined by the Plan\n",
        "- Calls one tool (or multiple) as needed\n",
        "\n",
        "**🛠️ Examples:**\n",
        "- Call `SearchAPI(\"Biden age\")`\n",
        "- Then `Calculator(81*2)`\n",
        "\n",
        "---\n",
        "\n",
        "## 3️⃣ **Observe (Review Phase)**\n",
        "\n",
        "**📍 Position:** Between Tools and Integration\n",
        "\n",
        "**⚡ What it does:**\n",
        "- Reviews tool results: Is it correct? Is it sufficient?\n",
        "- Compares results with plan expectations\n",
        "- If wrong or incomplete → return to Plan\n",
        "\n",
        "**🛠️ Examples:**\n",
        "- Observation: SearchAPI returned \"81 years\"\n",
        "- Verification: Yes, the value is logical\n",
        "\n",
        "---\n",
        "\n",
        "## 4️⃣ **Reflect (Re-thinking / Learning Phase)**\n",
        "\n",
        "**📍 Position:** At the entire Loop level (between Planning ↔ Tools ↔ Observe)\n",
        "\n",
        "**⚡ What it does:**\n",
        "- Evaluates: Is the result satisfactory or do I need to modify the plan?\n",
        "- Can store learning in **Memory** for future use\n",
        "\n",
        "**🛠️ Examples:**\n",
        "- \"Calculator returned 162 → Result is correct → End cycle and return response to user\"\n",
        "- Or: \"Result is unclear → Modify plan and use alternative tool\"\n",
        "\n",
        "---\n",
        "\n",
        "## 🔁 **Complete Cycle Flow (ReAct Loop):**\n",
        "\n",
        "```\n",
        "Plan → Act → Observe → Reflect → (Either Loop Again or Final Output)\n",
        "```\n",
        "\n",
        "\n",
        "\n"
      ],
      "metadata": {
        "id": "ngXf3ncbyptz"
      }
    },
    {
      "cell_type": "markdown",
      "source": [
        "# Lang graph flow"
      ],
      "metadata": {
        "id": "uXfZ2gQzzOF3"
      }
    },
    {
      "cell_type": "markdown",
      "source": [
        "## 🎯 Connecting Theoretical Loop to LangGraph Implementation\n",
        "\n",
        "Perfect! Let me connect the **theoretical Loop (Plan → Act → Observe → Reflect)** with **LangGraph** practically:\n",
        "\n",
        "---\n",
        "\n",
        "## 🔄 **The Loop in LangGraph**\n",
        "\n",
        "### 1️⃣ **Plan → Node (LLM / Planner)**\n",
        "- In LangGraph, the **Plan** step = Node responsible for planning\n",
        "- Could be an LLM writing a plan: \"We'll need to use Search API first → then summarize results → then answer the user\"\n",
        "- This planning gets stored in **State** (temporary memory flowing through the graph)\n",
        "\n",
        "### 2️⃣ **Act → Node (Tool / Function Call)**\n",
        "- The **Act** step = executing a specific plan using Tool, API, or Function\n",
        "- In LangGraph, this is a Node that performs `tool.invoke()` for example\n",
        "- The result (Output) gets stored in the State\n",
        "\n",
        "### 3️⃣ **Observe → Transition / Memory Update**\n",
        "- After execution, the Agent reviews the result (Observation)\n",
        "- In LangGraph, this appears as **State update** + Edge that returns the result to Planner Node or Reflect Node\n",
        "\n",
        "### 4️⃣ **Reflect → Node (Reflector / Validator)**\n",
        "- If result is insufficient/contains errors → Node responsible for **thinking and re-evaluation**\n",
        "- Reflect Node could be = LLM asking itself: \"Is this result sufficient to answer the question? If not, try another tool.\"\n",
        "- Afterwards, either returns to **Planner** (Cycle) or terminates\n",
        "\n",
        "### 5️⃣ **Finish → Exit Node**\n",
        "- If result is correct and complete → Edge goes to **Finish Node** and returns final Output to user\n",
        "\n",
        "---\n",
        "\n",
        "## 🏗️ **LangGraph Architecture Mapping:**\n",
        "\n",
        "```\n",
        "[START]\n",
        "   ↓\n",
        "[PLANNER NODE] ← Plan Phase (LLM generates strategy)\n",
        "   ↓\n",
        "[TOOL NODE] ← Act Phase (Execute tools/APIs)\n",
        "   ↓\n",
        "[OBSERVER EDGE] ← Observe Phase (State update)\n",
        "   ↓\n",
        "[REFLECTOR NODE] ← Reflect Phase (Validate results)\n",
        "   ↓\n",
        "Decision Diamond: Complete?\n",
        "   ↓ No (Loop back)     ↓ Yes\n",
        "[PLANNER NODE]    [FINISH NODE] → [OUTPUT]\n",
        "```\n",
        "\n",
        "\n"
      ],
      "metadata": {
        "id": "tUOqSjUvzbnh"
      }
    },
    {
      "cell_type": "markdown",
      "source": [
        "⚡ ReAct Approach (Reasoning + Acting) ReAct = Reasoning + Acting - A strategy that combines thinking and doing: ReAct Cycle:\n",
        "\n",
        "🤔 Thought (Reasoning) → Internal planning: \"I need to search for information\" 🔧 Action (Acting) → Execute tool (Search, Calculator, etc.) 👁️ Observation → Receive tool results 🤔 Thought (Again) → Process the results 🔧 Action/Answer → Continue with another tool OR provide final answer"
      ],
      "metadata": {
        "id": "jMFtHWc6zduk"
      }
    },
    {
      "cell_type": "code",
      "source": [
        "from IPython.core.display import display, HTML\n",
        "\n",
        "html_code = \"\"\"\n",
        "<!DOCTYPE html>\n",
        "<html lang=\"en\">\n",
        "<head>\n",
        "    <meta charset=\"UTF-8\">\n",
        "    <meta name=\"viewport\" content=\"width=device-width, initial-scale=1.0\">\n",
        "    <title>LangGraph Flow Diagram Explanation</title>\n",
        "    <style>\n",
        "        body {\n",
        "            font-family: 'Segoe UI', Tahoma, Geneva, Verdana, sans-serif;\n",
        "            background: linear-gradient(135deg, #667eea 0%, #764ba2 100%);\n",
        "            margin: 0;\n",
        "            padding: 20px;\n",
        "            color: #333;\n",
        "        }\n",
        "\n",
        "        .container {\n",
        "            max-width: 1200px;\n",
        "            margin: 0 auto;\n",
        "            background: white;\n",
        "            border-radius: 20px;\n",
        "            box-shadow: 0 20px 40px rgba(0,0,0,0.1);\n",
        "            overflow: hidden;\n",
        "        }\n",
        "\n",
        "        .header {\n",
        "            background: linear-gradient(45deg, #FF6B6B, #4ECDC4);\n",
        "            color: white;\n",
        "            padding: 30px;\n",
        "            text-align: center;\n",
        "        }\n",
        "\n",
        "        .header h1 {\n",
        "            margin: 0;\n",
        "            font-size: 2.5em;\n",
        "            text-shadow: 2px 2px 4px rgba(0,0,0,0.3);\n",
        "        }\n",
        "\n",
        "        .content {\n",
        "            padding: 30px;\n",
        "        }\n",
        "\n",
        "        .flow-section {\n",
        "            margin-bottom: 40px;\n",
        "            padding: 20px;\n",
        "            border-radius: 15px;\n",
        "            border-left: 5px solid;\n",
        "            background: #f8f9fa;\n",
        "            transition: all 0.3s ease;\n",
        "            cursor: pointer;\n",
        "        }\n",
        "\n",
        "        .flow-section:hover {\n",
        "            transform: translateY(-5px);\n",
        "            box-shadow: 0 10px 20px rgba(0,0,0,0.1);\n",
        "        }\n",
        "\n",
        "        .user-input { border-left-color: #4CAF50; background: linear-gradient(135deg, #e8f5e8, #f1f8e9); }\n",
        "        .state-mgmt { border-left-color: #2196F3; background: linear-gradient(135deg, #e3f2fd, #f3e5f5); }\n",
        "        .llm-processing { border-left-color: #FF9800; background: linear-gradient(135deg, #fff3e0, #fce4ec); }\n",
        "        .memory-system { border-left-color: #9C27B0; background: linear-gradient(135deg, #f3e5f5, #e8eaf6); }\n",
        "        .planning { border-left-color: #F44336; background: linear-gradient(135deg, #ffebee, #fff8e1); }\n",
        "        .tools-actions { border-left-color: #607D8B; background: linear-gradient(135deg, #eceff1, #f1f8e9); }\n",
        "        .observation { border-left-color: #795548; background: linear-gradient(135deg, #efebe9, #f3e5f5); }\n",
        "        .output { border-left-color: #4CAF50; background: linear-gradient(135deg, #e8f5e8, #e0f2f1); }\n",
        "\n",
        "        .step-title {\n",
        "            font-size: 1.5em;\n",
        "            font-weight: bold;\n",
        "            margin-bottom: 15px;\n",
        "            display: flex;\n",
        "            align-items: center;\n",
        "            gap: 10px;\n",
        "        }\n",
        "\n",
        "        .step-icon {\n",
        "            font-size: 1.2em;\n",
        "            padding: 10px;\n",
        "            border-radius: 50%;\n",
        "            color: white;\n",
        "            min-width: 40px;\n",
        "            text-align: center;\n",
        "        }\n",
        "\n",
        "        .user-input .step-icon { background: #4CAF50; }\n",
        "        .state-mgmt .step-icon { background: #2196F3; }\n",
        "        .llm-processing .step-icon { background: #FF9800; }\n",
        "        .memory-system .step-icon { background: #9C27B0; }\n",
        "        .planning .step-icon { background: #F44336; }\n",
        "        .tools-actions .step-icon { background: #607D8B; }\n",
        "        .observation .step-icon { background: #795548; }\n",
        "        .output .step-icon { background: #4CAF50; }\n",
        "\n",
        "        .step-description {\n",
        "            font-size: 1.1em;\n",
        "            line-height: 1.6;\n",
        "            margin-bottom: 15px;\n",
        "        }\n",
        "\n",
        "        .features {\n",
        "            display: grid;\n",
        "            grid-template-columns: repeat(auto-fit, minmax(250px, 1fr));\n",
        "            gap: 15px;\n",
        "            margin-top: 15px;\n",
        "        }\n",
        "\n",
        "        .feature {\n",
        "            background: rgba(255,255,255,0.7);\n",
        "            padding: 15px;\n",
        "            border-radius: 10px;\n",
        "            border: 1px solid rgba(0,0,0,0.1);\n",
        "        }\n",
        "\n",
        "        .feature-title {\n",
        "            font-weight: bold;\n",
        "            color: #333;\n",
        "            margin-bottom: 5px;\n",
        "        }\n",
        "\n",
        "        .arrow {\n",
        "            text-align: center;\n",
        "            font-size: 2em;\n",
        "            color: #666;\n",
        "            margin: 20px 0;\n",
        "            animation: bounce 2s infinite;\n",
        "        }\n",
        "\n",
        "        @keyframes bounce {\n",
        "            0%, 20%, 50%, 80%, 100% { transform: translateY(0); }\n",
        "            40% { transform: translateY(-10px); }\n",
        "            60% { transform: translateY(-5px); }\n",
        "        }\n",
        "\n",
        "        .workflow-summary {\n",
        "            background: linear-gradient(135deg, #667eea, #764ba2);\n",
        "            color: white;\n",
        "            padding: 30px;\n",
        "            border-radius: 15px;\n",
        "            margin-top: 40px;\n",
        "            text-align: center;\n",
        "        }\n",
        "\n",
        "        .workflow-summary h2 {\n",
        "            margin-top: 0;\n",
        "            font-size: 2em;\n",
        "        }\n",
        "\n",
        "        .workflow-steps {\n",
        "            display: grid;\n",
        "            grid-template-columns: repeat(auto-fit, minmax(200px, 1fr));\n",
        "            gap: 20px;\n",
        "            margin-top: 20px;\n",
        "        }\n",
        "\n",
        "        .workflow-step {\n",
        "            background: rgba(255,255,255,0.1);\n",
        "            padding: 15px;\n",
        "            border-radius: 10px;\n",
        "            border: 1px solid rgba(255,255,255,0.2);\n",
        "        }\n",
        "\n",
        "        .code-example {\n",
        "            background: #2d3748;\n",
        "            color: #e2e8f0;\n",
        "            padding: 20px;\n",
        "            border-radius: 10px;\n",
        "            margin: 15px 0;\n",
        "            font-family: 'Courier New', monospace;\n",
        "            overflow-x: auto;\n",
        "        }\n",
        "    </style>\n",
        "</head>\n",
        "<body>\n",
        "    <div class=\"container\">\n",
        "        <div class=\"header\">\n",
        "            <h1>🚀 Advanced LangGraph Flow Diagram</h1>\n",
        "            <p>Comprehensive Guide to Understanding Interactive AI Systems</p>\n",
        "        </div>\n",
        "\n",
        "        <div class=\"content\">\n",
        "            <div class=\"flow-section user-input\">\n",
        "                <div class=\"step-title\">\n",
        "                    <div class=\"step-icon\">📤</div>\n",
        "                    1. User Input\n",
        "                </div>\n",
        "                <div class=\"step-description\">\n",
        "                    The starting point where users provide questions, commands, or requests. This triggers the entire AI processing pipeline.\n",
        "                </div>\n",
        "                <div class=\"features\">\n",
        "                    <div class=\"feature\">\n",
        "                        <div class=\"feature-title\">Input Types:</div>\n",
        "                        Text queries, commands, questions, complex requests\n",
        "                    </div>\n",
        "                    <div class=\"feature\">\n",
        "                        <div class=\"feature-title\">Processing:</div>\n",
        "                        Natural language understanding and intent recognition\n",
        "                    </div>\n",
        "                </div>\n",
        "            </div>\n",
        "\n",
        "            <div class=\"arrow\">⬇️</div>\n",
        "\n",
        "            <div class=\"flow-section state-mgmt\">\n",
        "                <div class=\"step-title\">\n",
        "                    <div class=\"step-icon\">📋</div>\n",
        "                    2. State Management\n",
        "                </div>\n",
        "                <div class=\"step-description\">\n",
        "                    Central control hub that maintains all current information, context, conversation history, and temporary data during processing.\n",
        "                </div>\n",
        "                <div class=\"features\">\n",
        "                    <div class=\"feature\">\n",
        "                        <div class=\"feature-title\">Context Tracking:</div>\n",
        "                        Conversation history, user preferences, session data\n",
        "                    </div>\n",
        "                    <div class=\"feature\">\n",
        "                        <div class=\"feature-title\">Data Flow:</div>\n",
        "                        Manages information between different components\n",
        "                    </div>\n",
        "                    <div class=\"feature\">\n",
        "                        <div class=\"feature-title\">Persistence:</div>\n",
        "                        Temporary storage for processing steps\n",
        "                    </div>\n",
        "                </div>\n",
        "            </div>\n",
        "\n",
        "            <div class=\"arrow\">⬇️</div>\n",
        "\n",
        "            <div class=\"flow-section llm-processing\">\n",
        "                <div class=\"step-title\">\n",
        "                    <div class=\"step-icon\">🧠</div>\n",
        "                    3. LLM Processing Hub\n",
        "                </div>\n",
        "                <div class=\"step-description\">\n",
        "                    The core intelligence layer consisting of three main components working together to understand, reason, and make decisions.\n",
        "                </div>\n",
        "                <div class=\"features\">\n",
        "                    <div class=\"feature\">\n",
        "                        <div class=\"feature-title\">🔍 Understanding:</div>\n",
        "                        Analyzes input, extracts meaning, identifies intent\n",
        "                    </div>\n",
        "                    <div class=\"feature\">\n",
        "                        <div class=\"feature-title\">💭 Internal Reasoning:</div>\n",
        "                        Generates thoughts, considers options, creates drafts\n",
        "                    </div>\n",
        "                    <div class=\"feature\">\n",
        "                        <div class=\"feature-title\">⚖️ Reflection:</div>\n",
        "                        Evaluates results, decides next actions, quality control\n",
        "                    </div>\n",
        "                </div>\n",
        "            </div>\n",
        "\n",
        "            <div class=\"arrow\">⬇️</div>\n",
        "\n",
        "            <div class=\"flow-section memory-system\">\n",
        "                <div class=\"step-title\">\n",
        "                    <div class=\"step-icon\">🗄️</div>\n",
        "                    4. Memory System\n",
        "                </div>\n",
        "                <div class=\"step-description\">\n",
        "                    Retrieval and storage system for long-term context, knowledge base, and historical information to enhance responses.\n",
        "                </div>\n",
        "                <div class=\"features\">\n",
        "                    <div class=\"feature\">\n",
        "                        <div class=\"feature-title\">Knowledge Retrieval:</div>\n",
        "                        Fetch relevant information from knowledge base\n",
        "                    </div>\n",
        "                    <div class=\"feature\">\n",
        "                        <div class=\"feature-title\">Context Storage:</div>\n",
        "                        Store important conversation elements\n",
        "                    </div>\n",
        "                    <div class=\"feature\">\n",
        "                        <div class=\"feature-title\">RAG Integration:</div>\n",
        "                        Retrieval-Augmented Generation capabilities\n",
        "                    </div>\n",
        "                </div>\n",
        "            </div>\n",
        "\n",
        "            <div class=\"arrow\">⬇️</div>\n",
        "\n",
        "            <div class=\"flow-section planning\">\n",
        "                <div class=\"step-title\">\n",
        "                    <div class=\"step-icon\">📋</div>\n",
        "                    5. Planning & Decision Making\n",
        "                </div>\n",
        "                <div class=\"step-description\">\n",
        "                    Strategic component that determines the best approach: which tools to use, what information to gather, or whether to provide a direct response.\n",
        "                </div>\n",
        "                <div class=\"features\">\n",
        "                    <div class=\"feature\">\n",
        "                        <div class=\"feature-title\">Action Selection:</div>\n",
        "                        Choose appropriate tools and methods\n",
        "                    </div>\n",
        "                    <div class=\"feature\">\n",
        "                        <div class=\"feature-title\">Strategy Planning:</div>\n",
        "                        Multi-step reasoning and execution planning\n",
        "                    </div>\n",
        "                    <div class=\"feature\">\n",
        "                        <div class=\"feature-title\">Resource Management:</div>\n",
        "                        Optimize tool usage and response time\n",
        "                    </div>\n",
        "                </div>\n",
        "            </div>\n",
        "\n",
        "            <div class=\"arrow\">⬇️</div>\n",
        "\n",
        "            <div class=\"flow-section tools-actions\">\n",
        "                <div class=\"step-title\">\n",
        "                    <div class=\"step-icon\">🛠️</div>\n",
        "                    6. Tools & Actions\n",
        "                </div>\n",
        "                <div class=\"step-description\">\n",
        "                    External capabilities that extend the AI's functionality: search engines, calculators, databases, and custom APIs.\n",
        "                </div>\n",
        "                <div class=\"features\">\n",
        "                    <div class=\"feature\">\n",
        "                        <div class=\"feature-title\">🔍 Search API:</div>\n",
        "                        Web search, information retrieval\n",
        "                    </div>\n",
        "                    <div class=\"feature\">\n",
        "                        <div class=\"feature-title\">🧮 Calculator:</div>\n",
        "                        Mathematical computations, data analysis\n",
        "                    </div>\n",
        "                    <div class=\"feature\">\n",
        "                        <div class=\"feature-title\">🗃️ Database:</div>\n",
        "                        Data storage, retrieval, and manipulation\n",
        "                    </div>\n",
        "                    <div class=\"feature\">\n",
        "                        <div class=\"feature-title\">🔌 Custom APIs:</div>\n",
        "                        External services and specialized functions\n",
        "                    </div>\n",
        "                </div>\n",
        "            </div>\n",
        "\n",
        "            <div class=\"arrow\">⬇️</div>\n",
        "\n",
        "            <div class=\"flow-section observation\">\n",
        "                <div class=\"step-title\">\n",
        "                    <div class=\"step-icon\">📊</div>\n",
        "                    7. Observation & Results\n",
        "                </div>\n",
        "                <div class=\"step-description\">\n",
        "                    Collection and processing of results from tools and actions. This data feeds back into the state for integration and analysis.\n",
        "                </div>\n",
        "                <div class=\"features\">\n",
        "                    <div class=\"feature\">\n",
        "                        <div class=\"feature-title\">Result Processing:</div>\n",
        "                        Parse and structure tool outputs\n",
        "                    </div>\n",
        "                    <div class=\"feature\">\n",
        "                        <div class=\"feature-title\">Quality Assessment:</div>\n",
        "                        Validate and verify results\n",
        "                    </div>\n",
        "                    <div class=\"feature\">\n",
        "                        <div class=\"feature-title\">Error Handling:</div>\n",
        "                        Manage failures and retry mechanisms\n",
        "                    </div>\n",
        "                </div>\n",
        "            </div>\n",
        "\n",
        "            <div class=\"arrow\">⬇️</div>\n",
        "\n",
        "            <div class=\"flow-section output\">\n",
        "                <div class=\"step-title\">\n",
        "                    <div class=\"step-icon\">📤</div>\n",
        "                    8. Final Output Generation\n",
        "                </div>\n",
        "                <div class=\"step-description\">\n",
        "                    Integration of all gathered information, context, and results to generate the final response delivered to the user.\n",
        "                </div>\n",
        "                <div class=\"features\">\n",
        "                    <div class=\"feature\">\n",
        "                        <div class=\"feature-title\">Response Synthesis:</div>\n",
        "                        Combine context, results, and reasoning\n",
        "                    </div>\n",
        "                    <div class=\"feature\">\n",
        "                        <div class=\"feature-title\">Quality Control:</div>\n",
        "                        Final validation and formatting\n",
        "                    </div>\n",
        "                    <div class=\"feature\">\n",
        "                        <div class=\"feature-title\">User Experience:</div>\n",
        "                        Optimized presentation and clarity\n",
        "                    </div>\n",
        "                </div>\n",
        "            </div>\n",
        "\n",
        "            <div class=\"workflow-summary\">\n",
        "                <h2>🔄 Iterative Workflow</h2>\n",
        "                <p>LangGraph's power lies in its ability to loop and iterate until the best possible response is achieved.</p>\n",
        "\n",
        "                <div class=\"workflow-steps\">\n",
        "                    <div class=\"workflow-step\">\n",
        "                        <h3>🔄 Continuous Loop</h3>\n",
        "                        <p>The system can return to planning if more information is needed</p>\n",
        "                    </div>\n",
        "                    <div class=\"workflow-step\">\n",
        "                        <h3>🧠 Smart Decisions</h3>\n",
        "                        <p>AI reflection determines when to continue or finish</p>\n",
        "                    </div>\n",
        "                    <div class=\"workflow-step\">\n",
        "                        <h3>🎯 Quality Focus</h3>\n",
        "                        <p>Multiple iterations ensure comprehensive responses</p>\n",
        "                    </div>\n",
        "                    <div class=\"workflow-step\">\n",
        "                        <h3>⚡ Efficiency</h3>\n",
        "                        <p>Optimized to balance thoroughness with speed</p>\n",
        "                    </div>\n",
        "                </div>\n",
        "\n",
        "                <div class=\"code-example\">\n",
        "# Key LangGraph Advantages:\n",
        "✅ Modular Architecture - Easy to extend and maintain\n",
        "✅ State Management - Persistent context throughout conversation\n",
        "✅ Tool Integration - Seamless external API connections\n",
        "✅ Iterative Processing - Self-improving through reflection\n",
        "✅ Memory System - Long-term knowledge retention\n",
        "✅ Planning Intelligence - Strategic thinking and decision making\n",
        "                </div>\n",
        "            </div>\n",
        "        </div>\n",
        "    </div>\n",
        "\n",
        "    <script>\n",
        "        // Add interactive hover effects\n",
        "        document.querySelectorAll('.flow-section').forEach(section => {\n",
        "            section.addEventListener('click', function() {\n",
        "                this.style.transform = 'scale(1.02)';\n",
        "                setTimeout(() => {\n",
        "                    this.style.transform = 'translateY(-5px)';\n",
        "                }, 200);\n",
        "            });\n",
        "        });\n",
        "    </script>\n",
        "</body>\n",
        "</html>\n",
        "\n",
        "\"\"\"\n",
        "\n",
        "display(HTML(html_code))\n"
      ],
      "metadata": {
        "colab": {
          "base_uri": "https://localhost:8080/",
          "height": 1000
        },
        "id": "VippH6QSzT5p",
        "outputId": "00dfaa13-1056-45ff-81ea-9a60bd33cdab"
      },
      "execution_count": 2,
      "outputs": [
        {
          "output_type": "display_data",
          "data": {
            "text/plain": [
              "<IPython.core.display.HTML object>"
            ],
            "text/html": [
              "\n",
              "<!DOCTYPE html>\n",
              "<html lang=\"en\">\n",
              "<head>\n",
              "    <meta charset=\"UTF-8\">\n",
              "    <meta name=\"viewport\" content=\"width=device-width, initial-scale=1.0\">\n",
              "    <title>LangGraph Flow Diagram Explanation</title>\n",
              "    <style>\n",
              "        body {\n",
              "            font-family: 'Segoe UI', Tahoma, Geneva, Verdana, sans-serif;\n",
              "            background: linear-gradient(135deg, #667eea 0%, #764ba2 100%);\n",
              "            margin: 0;\n",
              "            padding: 20px;\n",
              "            color: #333;\n",
              "        }\n",
              "\n",
              "        .container {\n",
              "            max-width: 1200px;\n",
              "            margin: 0 auto;\n",
              "            background: white;\n",
              "            border-radius: 20px;\n",
              "            box-shadow: 0 20px 40px rgba(0,0,0,0.1);\n",
              "            overflow: hidden;\n",
              "        }\n",
              "\n",
              "        .header {\n",
              "            background: linear-gradient(45deg, #FF6B6B, #4ECDC4);\n",
              "            color: white;\n",
              "            padding: 30px;\n",
              "            text-align: center;\n",
              "        }\n",
              "\n",
              "        .header h1 {\n",
              "            margin: 0;\n",
              "            font-size: 2.5em;\n",
              "            text-shadow: 2px 2px 4px rgba(0,0,0,0.3);\n",
              "        }\n",
              "\n",
              "        .content {\n",
              "            padding: 30px;\n",
              "        }\n",
              "\n",
              "        .flow-section {\n",
              "            margin-bottom: 40px;\n",
              "            padding: 20px;\n",
              "            border-radius: 15px;\n",
              "            border-left: 5px solid;\n",
              "            background: #f8f9fa;\n",
              "            transition: all 0.3s ease;\n",
              "            cursor: pointer;\n",
              "        }\n",
              "\n",
              "        .flow-section:hover {\n",
              "            transform: translateY(-5px);\n",
              "            box-shadow: 0 10px 20px rgba(0,0,0,0.1);\n",
              "        }\n",
              "\n",
              "        .user-input { border-left-color: #4CAF50; background: linear-gradient(135deg, #e8f5e8, #f1f8e9); }\n",
              "        .state-mgmt { border-left-color: #2196F3; background: linear-gradient(135deg, #e3f2fd, #f3e5f5); }\n",
              "        .llm-processing { border-left-color: #FF9800; background: linear-gradient(135deg, #fff3e0, #fce4ec); }\n",
              "        .memory-system { border-left-color: #9C27B0; background: linear-gradient(135deg, #f3e5f5, #e8eaf6); }\n",
              "        .planning { border-left-color: #F44336; background: linear-gradient(135deg, #ffebee, #fff8e1); }\n",
              "        .tools-actions { border-left-color: #607D8B; background: linear-gradient(135deg, #eceff1, #f1f8e9); }\n",
              "        .observation { border-left-color: #795548; background: linear-gradient(135deg, #efebe9, #f3e5f5); }\n",
              "        .output { border-left-color: #4CAF50; background: linear-gradient(135deg, #e8f5e8, #e0f2f1); }\n",
              "\n",
              "        .step-title {\n",
              "            font-size: 1.5em;\n",
              "            font-weight: bold;\n",
              "            margin-bottom: 15px;\n",
              "            display: flex;\n",
              "            align-items: center;\n",
              "            gap: 10px;\n",
              "        }\n",
              "\n",
              "        .step-icon {\n",
              "            font-size: 1.2em;\n",
              "            padding: 10px;\n",
              "            border-radius: 50%;\n",
              "            color: white;\n",
              "            min-width: 40px;\n",
              "            text-align: center;\n",
              "        }\n",
              "\n",
              "        .user-input .step-icon { background: #4CAF50; }\n",
              "        .state-mgmt .step-icon { background: #2196F3; }\n",
              "        .llm-processing .step-icon { background: #FF9800; }\n",
              "        .memory-system .step-icon { background: #9C27B0; }\n",
              "        .planning .step-icon { background: #F44336; }\n",
              "        .tools-actions .step-icon { background: #607D8B; }\n",
              "        .observation .step-icon { background: #795548; }\n",
              "        .output .step-icon { background: #4CAF50; }\n",
              "\n",
              "        .step-description {\n",
              "            font-size: 1.1em;\n",
              "            line-height: 1.6;\n",
              "            margin-bottom: 15px;\n",
              "        }\n",
              "\n",
              "        .features {\n",
              "            display: grid;\n",
              "            grid-template-columns: repeat(auto-fit, minmax(250px, 1fr));\n",
              "            gap: 15px;\n",
              "            margin-top: 15px;\n",
              "        }\n",
              "\n",
              "        .feature {\n",
              "            background: rgba(255,255,255,0.7);\n",
              "            padding: 15px;\n",
              "            border-radius: 10px;\n",
              "            border: 1px solid rgba(0,0,0,0.1);\n",
              "        }\n",
              "\n",
              "        .feature-title {\n",
              "            font-weight: bold;\n",
              "            color: #333;\n",
              "            margin-bottom: 5px;\n",
              "        }\n",
              "\n",
              "        .arrow {\n",
              "            text-align: center;\n",
              "            font-size: 2em;\n",
              "            color: #666;\n",
              "            margin: 20px 0;\n",
              "            animation: bounce 2s infinite;\n",
              "        }\n",
              "\n",
              "        @keyframes bounce {\n",
              "            0%, 20%, 50%, 80%, 100% { transform: translateY(0); }\n",
              "            40% { transform: translateY(-10px); }\n",
              "            60% { transform: translateY(-5px); }\n",
              "        }\n",
              "\n",
              "        .workflow-summary {\n",
              "            background: linear-gradient(135deg, #667eea, #764ba2);\n",
              "            color: white;\n",
              "            padding: 30px;\n",
              "            border-radius: 15px;\n",
              "            margin-top: 40px;\n",
              "            text-align: center;\n",
              "        }\n",
              "\n",
              "        .workflow-summary h2 {\n",
              "            margin-top: 0;\n",
              "            font-size: 2em;\n",
              "        }\n",
              "\n",
              "        .workflow-steps {\n",
              "            display: grid;\n",
              "            grid-template-columns: repeat(auto-fit, minmax(200px, 1fr));\n",
              "            gap: 20px;\n",
              "            margin-top: 20px;\n",
              "        }\n",
              "\n",
              "        .workflow-step {\n",
              "            background: rgba(255,255,255,0.1);\n",
              "            padding: 15px;\n",
              "            border-radius: 10px;\n",
              "            border: 1px solid rgba(255,255,255,0.2);\n",
              "        }\n",
              "\n",
              "        .code-example {\n",
              "            background: #2d3748;\n",
              "            color: #e2e8f0;\n",
              "            padding: 20px;\n",
              "            border-radius: 10px;\n",
              "            margin: 15px 0;\n",
              "            font-family: 'Courier New', monospace;\n",
              "            overflow-x: auto;\n",
              "        }\n",
              "    </style>\n",
              "</head>\n",
              "<body>\n",
              "    <div class=\"container\">\n",
              "        <div class=\"header\">\n",
              "            <h1>🚀 Advanced LangGraph Flow Diagram</h1>\n",
              "            <p>Comprehensive Guide to Understanding Interactive AI Systems</p>\n",
              "        </div>\n",
              "\n",
              "        <div class=\"content\">\n",
              "            <div class=\"flow-section user-input\">\n",
              "                <div class=\"step-title\">\n",
              "                    <div class=\"step-icon\">📤</div>\n",
              "                    1. User Input\n",
              "                </div>\n",
              "                <div class=\"step-description\">\n",
              "                    The starting point where users provide questions, commands, or requests. This triggers the entire AI processing pipeline.\n",
              "                </div>\n",
              "                <div class=\"features\">\n",
              "                    <div class=\"feature\">\n",
              "                        <div class=\"feature-title\">Input Types:</div>\n",
              "                        Text queries, commands, questions, complex requests\n",
              "                    </div>\n",
              "                    <div class=\"feature\">\n",
              "                        <div class=\"feature-title\">Processing:</div>\n",
              "                        Natural language understanding and intent recognition\n",
              "                    </div>\n",
              "                </div>\n",
              "            </div>\n",
              "\n",
              "            <div class=\"arrow\">⬇️</div>\n",
              "\n",
              "            <div class=\"flow-section state-mgmt\">\n",
              "                <div class=\"step-title\">\n",
              "                    <div class=\"step-icon\">📋</div>\n",
              "                    2. State Management\n",
              "                </div>\n",
              "                <div class=\"step-description\">\n",
              "                    Central control hub that maintains all current information, context, conversation history, and temporary data during processing.\n",
              "                </div>\n",
              "                <div class=\"features\">\n",
              "                    <div class=\"feature\">\n",
              "                        <div class=\"feature-title\">Context Tracking:</div>\n",
              "                        Conversation history, user preferences, session data\n",
              "                    </div>\n",
              "                    <div class=\"feature\">\n",
              "                        <div class=\"feature-title\">Data Flow:</div>\n",
              "                        Manages information between different components\n",
              "                    </div>\n",
              "                    <div class=\"feature\">\n",
              "                        <div class=\"feature-title\">Persistence:</div>\n",
              "                        Temporary storage for processing steps\n",
              "                    </div>\n",
              "                </div>\n",
              "            </div>\n",
              "\n",
              "            <div class=\"arrow\">⬇️</div>\n",
              "\n",
              "            <div class=\"flow-section llm-processing\">\n",
              "                <div class=\"step-title\">\n",
              "                    <div class=\"step-icon\">🧠</div>\n",
              "                    3. LLM Processing Hub\n",
              "                </div>\n",
              "                <div class=\"step-description\">\n",
              "                    The core intelligence layer consisting of three main components working together to understand, reason, and make decisions.\n",
              "                </div>\n",
              "                <div class=\"features\">\n",
              "                    <div class=\"feature\">\n",
              "                        <div class=\"feature-title\">🔍 Understanding:</div>\n",
              "                        Analyzes input, extracts meaning, identifies intent\n",
              "                    </div>\n",
              "                    <div class=\"feature\">\n",
              "                        <div class=\"feature-title\">💭 Internal Reasoning:</div>\n",
              "                        Generates thoughts, considers options, creates drafts\n",
              "                    </div>\n",
              "                    <div class=\"feature\">\n",
              "                        <div class=\"feature-title\">⚖️ Reflection:</div>\n",
              "                        Evaluates results, decides next actions, quality control\n",
              "                    </div>\n",
              "                </div>\n",
              "            </div>\n",
              "\n",
              "            <div class=\"arrow\">⬇️</div>\n",
              "\n",
              "            <div class=\"flow-section memory-system\">\n",
              "                <div class=\"step-title\">\n",
              "                    <div class=\"step-icon\">🗄️</div>\n",
              "                    4. Memory System\n",
              "                </div>\n",
              "                <div class=\"step-description\">\n",
              "                    Retrieval and storage system for long-term context, knowledge base, and historical information to enhance responses.\n",
              "                </div>\n",
              "                <div class=\"features\">\n",
              "                    <div class=\"feature\">\n",
              "                        <div class=\"feature-title\">Knowledge Retrieval:</div>\n",
              "                        Fetch relevant information from knowledge base\n",
              "                    </div>\n",
              "                    <div class=\"feature\">\n",
              "                        <div class=\"feature-title\">Context Storage:</div>\n",
              "                        Store important conversation elements\n",
              "                    </div>\n",
              "                    <div class=\"feature\">\n",
              "                        <div class=\"feature-title\">RAG Integration:</div>\n",
              "                        Retrieval-Augmented Generation capabilities\n",
              "                    </div>\n",
              "                </div>\n",
              "            </div>\n",
              "\n",
              "            <div class=\"arrow\">⬇️</div>\n",
              "\n",
              "            <div class=\"flow-section planning\">\n",
              "                <div class=\"step-title\">\n",
              "                    <div class=\"step-icon\">📋</div>\n",
              "                    5. Planning & Decision Making\n",
              "                </div>\n",
              "                <div class=\"step-description\">\n",
              "                    Strategic component that determines the best approach: which tools to use, what information to gather, or whether to provide a direct response.\n",
              "                </div>\n",
              "                <div class=\"features\">\n",
              "                    <div class=\"feature\">\n",
              "                        <div class=\"feature-title\">Action Selection:</div>\n",
              "                        Choose appropriate tools and methods\n",
              "                    </div>\n",
              "                    <div class=\"feature\">\n",
              "                        <div class=\"feature-title\">Strategy Planning:</div>\n",
              "                        Multi-step reasoning and execution planning\n",
              "                    </div>\n",
              "                    <div class=\"feature\">\n",
              "                        <div class=\"feature-title\">Resource Management:</div>\n",
              "                        Optimize tool usage and response time\n",
              "                    </div>\n",
              "                </div>\n",
              "            </div>\n",
              "\n",
              "            <div class=\"arrow\">⬇️</div>\n",
              "\n",
              "            <div class=\"flow-section tools-actions\">\n",
              "                <div class=\"step-title\">\n",
              "                    <div class=\"step-icon\">🛠️</div>\n",
              "                    6. Tools & Actions\n",
              "                </div>\n",
              "                <div class=\"step-description\">\n",
              "                    External capabilities that extend the AI's functionality: search engines, calculators, databases, and custom APIs.\n",
              "                </div>\n",
              "                <div class=\"features\">\n",
              "                    <div class=\"feature\">\n",
              "                        <div class=\"feature-title\">🔍 Search API:</div>\n",
              "                        Web search, information retrieval\n",
              "                    </div>\n",
              "                    <div class=\"feature\">\n",
              "                        <div class=\"feature-title\">🧮 Calculator:</div>\n",
              "                        Mathematical computations, data analysis\n",
              "                    </div>\n",
              "                    <div class=\"feature\">\n",
              "                        <div class=\"feature-title\">🗃️ Database:</div>\n",
              "                        Data storage, retrieval, and manipulation\n",
              "                    </div>\n",
              "                    <div class=\"feature\">\n",
              "                        <div class=\"feature-title\">🔌 Custom APIs:</div>\n",
              "                        External services and specialized functions\n",
              "                    </div>\n",
              "                </div>\n",
              "            </div>\n",
              "\n",
              "            <div class=\"arrow\">⬇️</div>\n",
              "\n",
              "            <div class=\"flow-section observation\">\n",
              "                <div class=\"step-title\">\n",
              "                    <div class=\"step-icon\">📊</div>\n",
              "                    7. Observation & Results\n",
              "                </div>\n",
              "                <div class=\"step-description\">\n",
              "                    Collection and processing of results from tools and actions. This data feeds back into the state for integration and analysis.\n",
              "                </div>\n",
              "                <div class=\"features\">\n",
              "                    <div class=\"feature\">\n",
              "                        <div class=\"feature-title\">Result Processing:</div>\n",
              "                        Parse and structure tool outputs\n",
              "                    </div>\n",
              "                    <div class=\"feature\">\n",
              "                        <div class=\"feature-title\">Quality Assessment:</div>\n",
              "                        Validate and verify results\n",
              "                    </div>\n",
              "                    <div class=\"feature\">\n",
              "                        <div class=\"feature-title\">Error Handling:</div>\n",
              "                        Manage failures and retry mechanisms\n",
              "                    </div>\n",
              "                </div>\n",
              "            </div>\n",
              "\n",
              "            <div class=\"arrow\">⬇️</div>\n",
              "\n",
              "            <div class=\"flow-section output\">\n",
              "                <div class=\"step-title\">\n",
              "                    <div class=\"step-icon\">📤</div>\n",
              "                    8. Final Output Generation\n",
              "                </div>\n",
              "                <div class=\"step-description\">\n",
              "                    Integration of all gathered information, context, and results to generate the final response delivered to the user.\n",
              "                </div>\n",
              "                <div class=\"features\">\n",
              "                    <div class=\"feature\">\n",
              "                        <div class=\"feature-title\">Response Synthesis:</div>\n",
              "                        Combine context, results, and reasoning\n",
              "                    </div>\n",
              "                    <div class=\"feature\">\n",
              "                        <div class=\"feature-title\">Quality Control:</div>\n",
              "                        Final validation and formatting\n",
              "                    </div>\n",
              "                    <div class=\"feature\">\n",
              "                        <div class=\"feature-title\">User Experience:</div>\n",
              "                        Optimized presentation and clarity\n",
              "                    </div>\n",
              "                </div>\n",
              "            </div>\n",
              "\n",
              "            <div class=\"workflow-summary\">\n",
              "                <h2>🔄 Iterative Workflow</h2>\n",
              "                <p>LangGraph's power lies in its ability to loop and iterate until the best possible response is achieved.</p>\n",
              "\n",
              "                <div class=\"workflow-steps\">\n",
              "                    <div class=\"workflow-step\">\n",
              "                        <h3>🔄 Continuous Loop</h3>\n",
              "                        <p>The system can return to planning if more information is needed</p>\n",
              "                    </div>\n",
              "                    <div class=\"workflow-step\">\n",
              "                        <h3>🧠 Smart Decisions</h3>\n",
              "                        <p>AI reflection determines when to continue or finish</p>\n",
              "                    </div>\n",
              "                    <div class=\"workflow-step\">\n",
              "                        <h3>🎯 Quality Focus</h3>\n",
              "                        <p>Multiple iterations ensure comprehensive responses</p>\n",
              "                    </div>\n",
              "                    <div class=\"workflow-step\">\n",
              "                        <h3>⚡ Efficiency</h3>\n",
              "                        <p>Optimized to balance thoroughness with speed</p>\n",
              "                    </div>\n",
              "                </div>\n",
              "\n",
              "                <div class=\"code-example\">\n",
              "# Key LangGraph Advantages:\n",
              "✅ Modular Architecture - Easy to extend and maintain\n",
              "✅ State Management - Persistent context throughout conversation\n",
              "✅ Tool Integration - Seamless external API connections\n",
              "✅ Iterative Processing - Self-improving through reflection\n",
              "✅ Memory System - Long-term knowledge retention\n",
              "✅ Planning Intelligence - Strategic thinking and decision making\n",
              "                </div>\n",
              "            </div>\n",
              "        </div>\n",
              "    </div>\n",
              "\n",
              "    <script>\n",
              "        // Add interactive hover effects\n",
              "        document.querySelectorAll('.flow-section').forEach(section => {\n",
              "            section.addEventListener('click', function() {\n",
              "                this.style.transform = 'scale(1.02)';\n",
              "                setTimeout(() => {\n",
              "                    this.style.transform = 'translateY(-5px)';\n",
              "                }, 200);\n",
              "            });\n",
              "        });\n",
              "    </script>\n",
              "</body>\n",
              "</html>\n",
              "\n"
            ]
          },
          "metadata": {}
        }
      ]
    },
    {
      "cell_type": "markdown",
      "source": [
        "#  Element Langgraph"
      ],
      "metadata": {
        "id": "QZePMg6f0Jiy"
      }
    },
    {
      "cell_type": "markdown",
      "source": [
        "\n",
        "\n",
        "* **State = Shared memory** → It stores the current data that all nodes can read from and update.(Schema,Merge Strategy)\n",
        "* **Node = Single operation** → A function or task that processes the state.\n",
        "* **Graph = Complete map** → The overall structure showing how nodes are connected.\n",
        "* **Edge = Connections** → The links that define the flow between nodes (can be conditional or direct).\n",
        "* **Start / End = Entry and exit** → Where the workflow begins and where it stops.\n",
        "* **Tools = Extra functions** → Special utilities (e.g., API calls) that extend node capabilities.\n",
        "* **Tool Node = Node running a Tool** → A node whose main job is to execute a tool.\n",
        "* **State Graph = The blueprint** → It organizes and compiles the whole graph, managing nodes, edges, and state.\n",
        "* **Runnable = Modular execution block** → A reusable component that can run a specific task.\n",
        "* **Messages = Data types passed in the workflow** → Different message formats that carry information between nodes.\n",
        "\n",
        "\n"
      ],
      "metadata": {
        "id": "1enf44Xw0Rrv"
      }
    },
    {
      "cell_type": "markdown",
      "source": [
        "\n",
        "\n",
        "## 🔹 Logical Flow vs LangGraph Elements\n",
        "\n",
        "You have the **logical workflow** of the agent:\n",
        "\n",
        "```\n",
        "[User Input]  \n",
        "     ⬇️  \n",
        "[LLM + Memory]  \n",
        "     ⬇️  \n",
        "[Planning]  \n",
        "     ⬇️  \n",
        "[Tools]  \n",
        "     ⬇️  \n",
        "[LLM (Integration)]  \n",
        "     ⬇️  \n",
        "[Output]  \n",
        "```\n",
        "\n",
        "And you have the **LangGraph elements (State, Node, Graph, …)**.\n",
        "Here’s how each step maps:\n",
        "\n",
        "---\n",
        "\n",
        "### 1️⃣ User Input\n",
        "\n",
        "* **Represents → Message (InputMessage)**\n",
        "  The very first thing entering the system is the user’s message.\n",
        "\n",
        "---\n",
        "\n",
        "### 2️⃣ LLM (understands context + Memory)\n",
        "\n",
        "* **Node** → The LLM step itself.\n",
        "* **State** → Holds memory and all prior data.\n",
        "* **Message** → User input gets transformed into `HumanMessage` → `AIMessage`.\n",
        "\n",
        "---\n",
        "\n",
        "### 3️⃣ Planning (decides the next steps)\n",
        "\n",
        "* **Node** → Separate planning node (could be another LLM node).\n",
        "* **Edge** → Decides which step to go next (use tools or directly respond).\n",
        "* **Message** → Planning output updates the state.\n",
        "\n",
        "---\n",
        "\n",
        "### 4️⃣ Tools (Search, API, Calculator…)\n",
        "\n",
        "* **Tool** → The utility itself.\n",
        "* **Tool Node** → The node that executes the tool.\n",
        "* **State** → Stores tool results for later use by other nodes.\n",
        "\n",
        "---\n",
        "\n",
        "### 5️⃣ LLM (Integration / Final Answer)\n",
        "\n",
        "* **Node** → Final LLM node that integrates everything.\n",
        "* **Runnable** → A modular execution block that can be reused.\n",
        "* **Message** → Produces the final `AIMessage`.\n",
        "\n",
        "---\n",
        "\n",
        "### 6️⃣ Output to User\n",
        "\n",
        "* **End Node** → Exit point of the graph.\n",
        "* **Message** → The final message returned to the user.\n",
        "\n",
        "---\n",
        "\n",
        "### 📌 Meta-level (overall structure)\n",
        "\n",
        "* **Graph** → Combines all nodes (LLM, planning, tool node, integration…).\n",
        "* **Edges** → Connect nodes in order (direct or conditional).\n",
        "* **Start** → Entry point (User Input).\n",
        "* **End** → Exit point (Final Output).\n",
        "* **State Graph** → The blueprint managing state, nodes, and edges.\n",
        "\n",
        "---\n",
        "\n",
        "## 📊 Mapping Table\n",
        "\n",
        "| **Logical Flow Step**      | **LangGraph Element**                   |\n",
        "| -------------------------- | --------------------------------------- |\n",
        "| User Input                 | Message (InputMessage)                  |\n",
        "| LLM + Memory               | Node + State + Messages                 |\n",
        "| Planning                   | Node + Edge + Message                   |\n",
        "| Tools                      | Tool + Tool Node + State                |\n",
        "| LLM (Integration)          | Node + Runnable + Message               |\n",
        "| Output to User             | End Node + Message                      |\n",
        "| Whole Workflow (structure) | Graph + Edges + State Graph + Start/End |\n",
        "\n",
        "---\n",
        "\n"
      ],
      "metadata": {
        "id": "fr8Npo_F0g75"
      }
    },
    {
      "cell_type": "markdown",
      "source": [
        "# simple"
      ],
      "metadata": {
        "id": "15WjhxlW1LCG"
      }
    },
    {
      "cell_type": "code",
      "source": [
        "\n",
        "\n",
        "from typing import Dict, TypedDict\n",
        "from langgraph.graph import StateGraph # framework that helps you design and manage the flow of tasks in your application using a graph structure\n",
        "# We now create an AgentState - shared data structure that keeps track of information as your application runs.\n",
        "from typing import Dict, TypedDict\n",
        "from langgraph.graph import StateGraph\n",
        "class AgentState(TypedDict): # Our state schema\n",
        "    message : str\n",
        "\n",
        "\n",
        "def greeting_node(state: AgentState) -> AgentState:\n",
        "    \"\"\"Simple node that adds a greeting message to the state\"\"\"\n",
        "\n",
        "    state['message'] = \"Hey \" + state[\"message\"] + \", how is your day going?\"\n",
        "\n",
        "    return state\n",
        "graph = StateGraph(AgentState)\n",
        "\n",
        "graph.add_node(\"greeter\", greeting_node)\n",
        "\n",
        "graph.set_entry_point(\"greeter\")\n",
        "graph.set_finish_point(\"greeter\")\n",
        "\n",
        "app = graph.compile()\n",
        "from IPython.display import Image, display\n",
        "display(Image(app.get_graph().draw_mermaid_png()))"
      ],
      "metadata": {
        "colab": {
          "base_uri": "https://localhost:8080/",
          "height": 251
        },
        "id": "wmttg3pC1VhZ",
        "outputId": "1ca5e39c-5185-46d3-c3fc-ba89ac7ff5e8"
      },
      "execution_count": 5,
      "outputs": [
        {
          "output_type": "display_data",
          "data": {
            "image/png": "[encoded data removed]",
            "text/plain": [
              "<IPython.core.display.Image object>"
            ]
          },
          "metadata": {}
        }
      ]
    },
    {
      "cell_type": "markdown",
      "source": [],
      "metadata": {
        "id": "MLA1Np841WZR"
      }
    },
    {
      "cell_type": "markdown",
      "source": [
        "#  Multiple_Inputs."
      ],
      "metadata": {
        "id": "3KEpROVJ2Hgz"
      }
    },
    {
      "cell_type": "code",
      "source": [
        "from typing import TypedDict, List\n",
        "from langgraph.graph import StateGraph\n",
        "#=========================================#\n",
        "class AgentState(TypedDict):\n",
        "    values: List[int]\n",
        "    name: str\n",
        "    result: str\n",
        "#=========================================#\n",
        "\n",
        "def process_values(state: AgentState) -> AgentState:\n",
        "    \"\"\"This function handles multiple different inputs\"\"\"\n",
        "    print(state)\n",
        "\n",
        "    state[\"result\"] = f\"Hi there {state[\"name\"]}! Your sum = {sum(state[\"values\"])}\"\n",
        "\n",
        "    print(state)\n",
        "    return state\n",
        "\n",
        "\n",
        "graph = StateGraph(AgentState)\n",
        "\n",
        "graph.add_node(\"processor\", process_values)\n",
        "graph.set_entry_point(\"processor\") # Set the starting node\n",
        "graph.set_finish_point(\"processor\") # Set the ending node\n",
        "\n",
        "app = graph.compile() # Compiling the graph"
      ],
      "metadata": {
        "id": "_Jv8fa4u2KIG"
      },
      "execution_count": 6,
      "outputs": []
    },
    {
      "cell_type": "code",
      "source": [
        "answers = app.invoke({\"values\": [1,2,3,4], \"name\": \"Steve\"})"
      ],
      "metadata": {
        "colab": {
          "base_uri": "https://localhost:8080/"
        },
        "id": "S6cmG22D2Urv",
        "outputId": "f9481433-717f-4ac1-bc8f-6eb7927d8d39"
      },
      "execution_count": 7,
      "outputs": [
        {
          "output_type": "stream",
          "name": "stdout",
          "text": [
            "{'values': [1, 2, 3, 4], 'name': 'Steve'}\n",
            "{'values': [1, 2, 3, 4], 'name': 'Steve', 'result': 'Hi there Steve! Your sum = 10'}\n"
          ]
        }
      ]
    },
    {
      "cell_type": "code",
      "source": [
        "print(answers[\"result\"])"
      ],
      "metadata": {
        "colab": {
          "base_uri": "https://localhost:8080/"
        },
        "id": "BIeia3CD2Xwr",
        "outputId": "3f29190e-e386-499a-b0f4-af0a1baafd18"
      },
      "execution_count": 8,
      "outputs": [
        {
          "output_type": "stream",
          "name": "stdout",
          "text": [
            "Hi there Steve! Your sum = 10\n"
          ]
        }
      ]
    },
    {
      "cell_type": "markdown",
      "source": [
        "#  seq graph"
      ],
      "metadata": {
        "id": "hdmuR2Lx2bFi"
      }
    },
    {
      "cell_type": "code",
      "source": [
        "from typing import TypedDict # Imports all the data types we need\n",
        "from langgraph.graph import StateGraph\n",
        "\n",
        "class AgentState(TypedDict):\n",
        "    name: str\n",
        "    age: str\n",
        "    final: str\n",
        "\n",
        "\n",
        "\n",
        "def first_node(state:AgentState) -> AgentState:\n",
        "    \"\"\"This is the first node of our sequence\"\"\"\n",
        "\n",
        "    state[\"final\"] = f\"Hi {state[\"name\"]}!\"\n",
        "    return state\n",
        "\n",
        "def second_node(state:AgentState) -> AgentState:\n",
        "    \"\"\"This is the second node of our sequence\"\"\"\n",
        "\n",
        "    state[\"final\"] = state[\"final\"] + f\" You are {state[\"age\"]} years old!\"\n",
        "\n",
        "    return state\n",
        "\n",
        "\n",
        "graph = StateGraph(AgentState)\n",
        "\n",
        "graph.add_node(\"first_node\", first_node)\n",
        "graph.add_node(\"second_node\", second_node)\n",
        "\n",
        "graph.set_entry_point(\"first_node\")\n",
        "graph.add_edge(\"first_node\", \"second_node\")\n",
        "graph.set_finish_point(\"second_node\")\n",
        "app = graph.compile()\n",
        "from IPython.display import Image, display\n",
        "display(Image(app.get_graph().draw_mermaid_png()))"
      ],
      "metadata": {
        "colab": {
          "base_uri": "https://localhost:8080/",
          "height": 350
        },
        "id": "hXYzoWdI2iYH",
        "outputId": "bad5e0a8-391b-46fe-ea1e-0a3ed30ef8ab"
      },
      "execution_count": 10,
      "outputs": [
        {
          "output_type": "display_data",
          "data": {
            "image/png": "[encoded data removed]",
            "text/plain": [
              "<IPython.core.display.Image object>"
            ]
          },
          "metadata": {}
        }
      ]
    },
    {
      "cell_type": "markdown",
      "source": [
        "#  Conditional"
      ],
      "metadata": {
        "id": "I8ni5tjx20GD"
      }
    },
    {
      "cell_type": "code",
      "source": [
        "from typing import TypedDict\n",
        "from langgraph.graph import StateGraph, START, END\n",
        "class AgentState(TypedDict):\n",
        "    number1: int\n",
        "    operation: str\n",
        "    number2: int\n",
        "    finalNumber: int\n",
        "\n",
        "\n",
        "\n",
        "\n",
        "def adder(state:AgentState) -> AgentState:\n",
        "    \"\"\"This node adds the 2 numbers\"\"\"\n",
        "    state[\"finalNumber\"] = state[\"number1\"] + state[\"number2\"]\n",
        "\n",
        "    return state\n",
        "\n",
        "def subtractor(state:AgentState) -> AgentState:\n",
        "    \"\"\"This node subtracts the 2 numbers\"\"\"\n",
        "    state[\"finalNumber\"] = state[\"number1\"] - state[\"number2\"]\n",
        "    return state\n",
        "\n",
        "\n",
        "def decide_next_node(state:AgentState) -> AgentState:\n",
        "    \"\"\"This node will select the next node of the graph\"\"\"\n",
        "\n",
        "    if state[\"operation\"] == \"+\":\n",
        "        return \"addition_operation\"\n",
        "\n",
        "    elif state[\"operation\"] == \"-\":\n",
        "        return \"subtraction_operation\"\n",
        "\n",
        "\n",
        "graph = StateGraph(AgentState)\n",
        "\n",
        "graph.add_node(\"add_node\", adder)\n",
        "graph.add_node(\"subtract_node\", subtractor)\n",
        "graph.add_node(\"router\", lambda state:state) # passthrough function\n",
        "\n",
        "graph.add_edge(START, \"router\")\n",
        "\n",
        "graph.add_conditional_edges(\n",
        "    \"router\",\n",
        "    decide_next_node,\n",
        "\n",
        "    {\n",
        "        # Edge: Node\n",
        "        \"addition_operation\": \"add_node\",\n",
        "        \"subtraction_operation\": \"subtract_node\"\n",
        "    }\n",
        "\n",
        ")\n",
        "\n",
        "graph.add_edge(\"add_node\", END)\n",
        "graph.add_edge(\"subtract_node\", END)\n",
        "\n",
        "app = graph.compile()\n",
        "\n",
        "\n",
        "from IPython.display import Image, display\n",
        "display(Image(app.get_graph().draw_mermaid_png()))\n"
      ],
      "metadata": {
        "colab": {
          "base_uri": "https://localhost:8080/",
          "height": 374
        },
        "id": "roF5eDJ_23hq",
        "outputId": "8dd694ed-376d-4847-f9c0-5a164396c5ce"
      },
      "execution_count": 11,
      "outputs": [
        {
          "output_type": "display_data",
          "data": {
            "image/png": "[encoded data removed]",
            "text/plain": [
              "<IPython.core.display.Image object>"
            ]
          },
          "metadata": {}
        }
      ]
    },
    {
      "cell_type": "code",
      "source": [
        "initial_state_1 = AgentState(number1 = 10, operation=\"-\", number2 = 5)\n",
        "print(app.invoke(initial_state_1))\n"
      ],
      "metadata": {
        "colab": {
          "base_uri": "https://localhost:8080/"
        },
        "id": "ckjBE2o93JjM",
        "outputId": "a32a3ea4-6d3e-4e09-dd28-0e8bff2b841a"
      },
      "execution_count": 12,
      "outputs": [
        {
          "output_type": "stream",
          "name": "stdout",
          "text": [
            "{'number1': 10, 'operation': '-', 'number2': 5, 'finalNumber': 5}\n"
          ]
        }
      ]
    },
    {
      "cell_type": "code",
      "source": [
        "result = app.invoke({\"number1\": 10, \"operation\": \"-\", \"number2\": 5})\n",
        "print(result[\"finalNumber\"])"
      ],
      "metadata": {
        "colab": {
          "base_uri": "https://localhost:8080/"
        },
        "id": "Ju0dil0m3KgM",
        "outputId": "13c51415-a246-4926-b8be-a3f3dba47748"
      },
      "execution_count": 13,
      "outputs": [
        {
          "output_type": "stream",
          "name": "stdout",
          "text": [
            "5\n"
          ]
        }
      ]
    },
    {
      "cell_type": "markdown",
      "source": [
        "# Looping graph"
      ],
      "metadata": {
        "id": "6EcImq683UHv"
      }
    },
    {
      "cell_type": "code",
      "source": [
        "from langgraph.graph import StateGraph, END\n",
        "import random\n",
        "from typing import Dict, List, TypedDict\n",
        "class AgentState(TypedDict):\n",
        "    name: str\n",
        "    number: List[int]\n",
        "    counter: int\n",
        "def greeting_node(state: AgentState) -> AgentState:\n",
        "    \"\"\"Greeting Node which says hi to the person\"\"\"\n",
        "    state[\"name\"] = f\"Hi there, {state[\"name\"]}\"\n",
        "    state[\"counter\"] = 0\n",
        "\n",
        "    return state\n",
        "\n",
        "def random_node(state: AgentState) -> AgentState:\n",
        "    \"\"\"Generates a random number from 0 to 10\"\"\"\n",
        "    state[\"number\"].append(random.randint(0, 10))\n",
        "    state[\"counter\"] += 1\n",
        "\n",
        "    return state\n",
        "\n",
        "\n",
        "def should_continue(state: AgentState) -> AgentState:\n",
        "    \"\"\"Function to decide what to do next\"\"\"\n",
        "    if state[\"counter\"] < 5:\n",
        "        print(\"ENTERING LOOP\", state[\"counter\"])\n",
        "        return \"loop\"  # Continue looping\n",
        "    else:\n",
        "        return \"exit\"  # Exit the loop\n",
        "\n",
        "\n",
        "graph = StateGraph(AgentState)\n",
        "\n",
        "graph.add_node(\"greeting\", greeting_node)\n",
        "graph.add_node(\"random\", random_node)\n",
        "graph.add_edge(\"greeting\", \"random\")\n",
        "\n",
        "\n",
        "graph.add_conditional_edges(\n",
        "    \"random\",     # Source node\n",
        "    should_continue, # Action\n",
        "    {\n",
        "        \"loop\": \"random\",\n",
        "        \"exit\": END\n",
        "    }\n",
        ")\n",
        "\n",
        "graph.set_entry_point(\"greeting\")\n",
        "\n",
        "app = graph.compile()\n",
        "from IPython.display import Image, display\n",
        "display(Image(app.get_graph().draw_mermaid_png()))"
      ],
      "metadata": {
        "colab": {
          "base_uri": "https://localhost:8080/",
          "height": 448
        },
        "id": "fysAxOXr3aPc",
        "outputId": "47787dd0-065f-48a4-cc83-b7e721642b50"
      },
      "execution_count": 14,
      "outputs": [
        {
          "output_type": "display_data",
          "data": {
            "image/png": "[encoded data removed]",
            "text/plain": [
              "<IPython.core.display.Image object>"
            ]
          },
          "metadata": {}
        }
      ]
    },
    {
      "cell_type": "markdown",
      "source": [
        "#  Basic_chat"
      ],
      "metadata": {
        "id": "100ie9l-xp9e"
      }
    },
    {
      "cell_type": "code",
      "source": [
        "\n",
        "\n",
        "import os\n",
        "from dotenv import load_dotenv\n",
        "\n",
        "\n",
        "# os.environ[\"GROQ_API_KEY\"] =\n",
        "# os.environ[\"TAVILY_API_KEY\"] =\n",
        "load_dotenv()\n",
        "\n",
        "from typing import Annotated\n",
        "from typing_extensions import TypedDict\n",
        "from langgraph.graph import StateGraph, START, END\n",
        "from langgraph.graph.message import add_messages\n",
        "\n",
        "# تعريف State\n",
        "class State(TypedDict):\n",
        "    messages: Annotated[list, add_messages]\n",
        "\n",
        "# استدعاء الموديل\n",
        "from langchain_groq import ChatGroq\n",
        "\n",
        "llm = ChatGroq(model=\"llama3-8b-8192\")\n",
        "\n",
        "\n",
        "response = llm.invoke(\"Hello, how are you?\")\n",
        "print(response)\n"
      ],
      "metadata": {
        "colab": {
          "base_uri": "https://localhost:8080/"
        },
        "id": "FlJZlKzzTHJc",
        "outputId": "1c8a02d9-e8cf-4f25-9a62-1e001373892d"
      },
      "execution_count": null,
      "outputs": [
        {
          "output_type": "stream",
          "name": "stdout",
          "text": [
            "content='I\\'m just an AI, I don\\'t have emotions or feelings like humans do, so I don\\'t have a good or bad day. I\\'m always \"on\" and ready to help with any questions or tasks you may have! It\\'s great to chat with you, though. How can I assist you today?' additional_kwargs={} response_metadata={'token_usage': {'completion_tokens': 65, 'prompt_tokens': 16, 'total_tokens': 81, 'completion_time': 0.048291155, 'prompt_time': 0.002358024, 'queue_time': 0.048490296, 'total_time': 0.050649179}, 'model_name': 'llama3-8b-8192', 'system_fingerprint': 'fp_4b5fbf0ced', 'service_tier': 'on_demand', 'finish_reason': 'stop', 'logprobs': None} id='run--dbea5ca3-a494-4f10-a4b5-bf031f372b43-0' usage_metadata={'input_tokens': 16, 'output_tokens': 65, 'total_tokens': 81}\n"
          ]
        }
      ]
    },
    {
      "cell_type": "code",
      "source": [
        "from langchain_groq import ChatGroq\n",
        "from langchain.chat_models import init_chat_model\n",
        "\n",
        "\n",
        "llm=init_chat_model(\"groq:llama3-8b-8192\")\n",
        "llm\n",
        "\n"
      ],
      "metadata": {
        "colab": {
          "base_uri": "https://localhost:8080/"
        },
        "id": "B9Lvc1FJVWk1",
        "outputId": "e9f7ad79-f2d9-4def-af49-a461f5800687"
      },
      "execution_count": null,
      "outputs": [
        {
          "output_type": "execute_result",
          "data": {
            "text/plain": [
              "ChatGroq(client=<groq.resources.chat.completions.Completions object at 0x7ce1479588f0>, async_client=<groq.resources.chat.completions.AsyncCompletions object at 0x7ce1455454c0>, model_name='llama3-8b-8192', model_kwargs={}, groq_api_key=SecretStr('**********'))"
            ]
          },
          "metadata": {},
          "execution_count": 3
        }
      ]
    },
    {
      "cell_type": "code",
      "source": [
        "## Node Functionality\n",
        "def chatbot(state:State):\n",
        "    return {\"messages\":[llm.invoke(state[\"messages\"])]}"
      ],
      "metadata": {
        "id": "9SxmmtdKVnlA"
      },
      "execution_count": null,
      "outputs": []
    },
    {
      "cell_type": "code",
      "source": [
        "graph_builder=StateGraph(State)\n",
        "\n",
        "## Adding node\n",
        "graph_builder.add_node(\"llmchatbot\",chatbot)\n",
        "## Adding Edges\n",
        "graph_builder.add_edge(START,\"llmchatbot\")\n",
        "graph_builder.add_edge(\"llmchatbot\",END)\n",
        "\n",
        "## compile the graph\n",
        "graph=graph_builder.compile()\n",
        "## Visualize the graph\n",
        "from IPython.display import Image,display\n",
        "\n",
        "try:\n",
        "    display(Image(graph.get_graph().draw_mermaid_png()))\n",
        "except Exception:\n",
        "    pass"
      ],
      "metadata": {
        "colab": {
          "base_uri": "https://localhost:8080/",
          "height": 251
        },
        "id": "ItFLmGlMVoVb",
        "outputId": "b4d25c09-106a-4e9f-9295-4e6011ff03a9"
      },
      "execution_count": null,
      "outputs": [
        {
          "output_type": "display_data",
          "data": {
            "image/png": "[encoded data removed]",
            "text/plain": [
              "<IPython.core.display.Image object>"
            ]
          },
          "metadata": {}
        }
      ]
    },
    {
      "cell_type": "code",
      "source": [
        "for event in graph.stream({\"messages\":\"Hi How are you?\"}):\n",
        "    for value in event.values():\n",
        "        print(value[\"messages\"][-1].content)"
      ],
      "metadata": {
        "colab": {
          "base_uri": "https://localhost:8080/"
        },
        "id": "6ipqOyyCVqPq",
        "outputId": "bfc2f5db-4e51-4634-b16b-c8e8cae6c6ad"
      },
      "execution_count": null,
      "outputs": [
        {
          "output_type": "stream",
          "name": "stdout",
          "text": [
            "I'm just a language model, I don't have feelings or emotions like humans do, but I'm functioning properly and ready to help you with any questions or tasks you have! It's great to chat with you. How can I assist you today?\n"
          ]
        }
      ]
    },
    {
      "cell_type": "markdown",
      "source": [
        "#  LLm with Tools"
      ],
      "metadata": {
        "id": "-BJj49AKxyY-"
      }
    },
    {
      "cell_type": "code",
      "source": [
        "from langchain_tavily import TavilySearch\n",
        "\n",
        "tool=TavilySearch(max_results=2)\n",
        "tool.invoke(\"What is langgraph\")"
      ],
      "metadata": {
        "colab": {
          "base_uri": "https://localhost:8080/"
        },
        "id": "3PoqTUuQVv5R",
        "outputId": "9bbfea2b-a4b6-4d37-f74c-0718bd76c47d"
      },
      "execution_count": null,
      "outputs": [
        {
          "output_type": "execute_result",
          "data": {
            "text/plain": [
              "{'query': 'What is langgraph',\n",
              " 'follow_up_questions': None,\n",
              " 'answer': None,\n",
              " 'images': [],\n",
              " 'results': [{'url': 'https://www.langchain.com/langgraph',\n",
              "   'title': 'LangGraph',\n",
              "   'content': \"Design agent-driven user experiences with LangGraph Platform's APIs. Quickly deploy and scale your application with infrastructure built for agents. LangGraph sets the foundation for how we can build and scale AI workloads — from conversational agents, complex task automation, to custom LLM-backed experiences that 'just work'. The next chapter in building complex production-ready features with LLMs is agentic, and with LangGraph and LangSmith, LangChain delivers an out-of-the-box solution to iterate quickly, debug immediately, and scale effortlessly.” LangGraph sets the foundation for how we can build and scale AI workloads — from conversational agents, complex task automation, to custom LLM-backed experiences that 'just work'. LangGraph Platform is a service for deploying and scaling LangGraph applications, with an opinionated API for building agent UXs, plus an integrated developer studio.\",\n",
              "   'score': 0.98562,\n",
              "   'raw_content': None},\n",
              "  {'url': 'https://www.ibm.com/think/topics/langgraph',\n",
              "   'title': 'What is LangGraph?',\n",
              "   'content': 'LangGraph, created by LangChain, is an open source AI agent framework designed to build, deploy and manage complex generative AI agent workflows. At its core, LangGraph uses the power of graph-based architectures to model and manage the intricate relationships between various components of an AI agent workflow. LangGraph illuminates the processes within an AI workflow, allowing full transparency of the agent’s state. By combining these technologies with a set of APIs and tools, LangGraph provides users with a versatile platform for developing AI solutions and workflows including chatbots, state graphs and other agent-based systems. **Nodes**: In LangGraph, nodes represent individual components or agents within an AI workflow. LangGraph uses enhanced decision-making by modeling complex relationships between nodes, which means it uses AI agents to analyze their past actions and feedback.',\n",
              "   'score': 0.98414,\n",
              "   'raw_content': None}],\n",
              " 'response_time': 1.47,\n",
              " 'request_id': '2079ef93-9bed-4b7b-9cd9-9052fec02bab'}"
            ]
          },
          "metadata": {},
          "execution_count": 7
        }
      ]
    },
    {
      "cell_type": "code",
      "source": [
        " ## Custom function\n",
        "def multiply(a:int,b:int)->int:\n",
        "    \"\"\"Multiply a and b\n",
        "\n",
        "    Args:\n",
        "        a (int): first int\n",
        "        b (int): second int\n",
        "\n",
        "    Returns:\n",
        "        int: output int\n",
        "    \"\"\"\n",
        "    return a*b"
      ],
      "metadata": {
        "id": "NQMwRCmrVx59"
      },
      "execution_count": null,
      "outputs": []
    },
    {
      "cell_type": "code",
      "source": [
        "tools=[tool,multiply]\n",
        "llm_with_tool=llm.bind_tools(tools)\n",
        "llm_with_tool"
      ],
      "metadata": {
        "colab": {
          "base_uri": "https://localhost:8080/"
        },
        "id": "CZkaVxawWCuZ",
        "outputId": "3613538f-1483-4474-cd4b-39854b917372"
      },
      "execution_count": null,
      "outputs": [
        {
          "output_type": "execute_result",
          "data": {
            "text/plain": [
              "RunnableBinding(bound=ChatGroq(client=<groq.resources.chat.completions.Completions object at 0x7ce1479588f0>, async_client=<groq.resources.chat.completions.AsyncCompletions object at 0x7ce1455454c0>, model_name='llama3-8b-8192', model_kwargs={}, groq_api_key=SecretStr('**********')), kwargs={'tools': [{'type': 'function', 'function': {'name': 'tavily_search', 'description': 'A search engine optimized for comprehensive, accurate, and trusted results. Useful for when you need to answer questions about current events. It not only retrieves URLs and snippets, but offers advanced search depths, domain management, time range filters, and image search, this tool delivers real-time, accurate, and citation-backed results.Input should be a search query.', 'parameters': {'properties': {'query': {'description': 'Search query to look up', 'type': 'string'}, 'include_domains': {'anyOf': [{'items': {'type': 'string'}, 'type': 'array'}, {'type': 'null'}], 'default': [], 'description': 'A list of domains to restrict search results to.\\n\\n        Use this parameter when:\\n        1. The user explicitly requests information from specific websites (e.g., \"Find climate data from nasa.gov\")\\n        2. The user mentions an organization or company without specifying the domain (e.g., \"Find information about iPhones from Apple\")\\n\\n        In both cases, you should determine the appropriate domains (e.g., [\"nasa.gov\"] or [\"apple.com\"]) and set this parameter.\\n\\n        Results will ONLY come from the specified domains - no other sources will be included.\\n        Default is None (no domain restriction).\\n        '}, 'exclude_domains': {'anyOf': [{'items': {'type': 'string'}, 'type': 'array'}, {'type': 'null'}], 'default': [], 'description': 'A list of domains to exclude from search results.\\n\\n        Use this parameter when:\\n        1. The user explicitly requests to avoid certain websites (e.g., \"Find information about climate change but not from twitter.com\")\\n        2. The user mentions not wanting results from specific organizations without naming the domain (e.g., \"Find phone reviews but nothing from Apple\")\\n\\n        In both cases, you should determine the appropriate domains to exclude (e.g., [\"twitter.com\"] or [\"apple.com\"]) and set this parameter.\\n\\n        Results will filter out all content from the specified domains.\\n        Default is None (no domain exclusion).\\n        '}, 'search_depth': {'anyOf': [{'enum': ['basic', 'advanced'], 'type': 'string'}, {'type': 'null'}], 'default': 'basic', 'description': 'Controls search thoroughness and result comprehensiveness.\\n    \\n        Use \"basic\" for simple queries requiring quick, straightforward answers.\\n        \\n        Use \"advanced\" (default) for complex queries, specialized topics, \\n        rare information, or when in-depth analysis is needed.\\n        '}, 'include_images': {'anyOf': [{'type': 'boolean'}, {'type': 'null'}], 'default': False, 'description': 'Determines if the search returns relevant images along with text results.\\n   \\n        Set to True when the user explicitly requests visuals or when images would \\n        significantly enhance understanding (e.g., \"Show me what black holes look like,\" \\n        \"Find pictures of Renaissance art\").\\n        \\n        Leave as False (default) for most informational queries where text is sufficient.\\n        '}, 'time_range': {'anyOf': [{'enum': ['day', 'week', 'month', 'year'], 'type': 'string'}, {'type': 'null'}], 'default': None, 'description': 'Limits results to content published within a specific timeframe.\\n        \\n        ONLY set this when the user explicitly mentions a time period \\n        (e.g., \"latest AI news,\" \"articles from last week\").\\n        \\n        For less popular or niche topics, use broader time ranges \\n        (\"month\" or \"year\") to ensure sufficient relevant results.\\n   \\n        Options: \"day\" (24h), \"week\" (7d), \"month\" (30d), \"year\" (365d).\\n        \\n        Default is None.\\n        '}, 'topic': {'anyOf': [{'enum': ['general', 'news', 'finance'], 'type': 'string'}, {'type': 'null'}], 'default': 'general', 'description': 'Specifies search category for optimized results.\\n   \\n        Use \"general\" (default) for most queries, INCLUDING those with terms like \\n        \"latest,\" \"newest,\" or \"recent\" when referring to general information.\\n\\n        Use \"finance\" for markets, investments, economic data, or financial news.\\n\\n        Use \"news\" ONLY for politics, sports, or major current events covered by \\n        mainstream media - NOT simply because a query asks for \"new\" information.\\n        '}, 'include_favicon': {'anyOf': [{'type': 'boolean'}, {'type': 'null'}], 'default': False, 'description': \"Determines whether to include favicon URLs for each search result.\\n        \\n        When enabled, each search result will include the website's favicon URL,\\n        which can be useful for:\\n        - Building rich UI interfaces with visual website indicators\\n        - Providing visual cues about the source's credibility or brand\\n        - Creating bookmark-like displays with recognizable site icons\\n        \\n        Set to True when creating user interfaces that benefit from visual branding\\n        or when favicon information enhances the user experience.\\n        \\n        Default is False to minimize response size and API usage.\\n        \"}, 'start_date': {'anyOf': [{'type': 'string'}, {'type': 'null'}], 'default': None, 'description': 'Filters search results to include only content published on or after this date.\\n        \\n        Use this parameter when you need to:\\n        - Find recent developments or updates on a topic\\n        - Exclude outdated information from search results\\n        - Focus on content within a specific timeframe\\n        - Combine with end_date to create a custom date range\\n        \\n        Format must be YYYY-MM-DD (e.g., \"2024-01-15\" for January 15, 2024).\\n        \\n        Examples:\\n        - \"2024-01-01\" - Results from January 1, 2024 onwards\\n        - \"2023-12-25\" - Results from December 25, 2023 onwards\\n        \\n        When combined with end_date, creates a precise date range filter.\\n        \\n        Default is None (no start date restriction).\\n        '}, 'end_date': {'anyOf': [{'type': 'string'}, {'type': 'null'}], 'default': None, 'description': 'Filters search results to include only content published on or before this date.\\n        \\n        Use this parameter when you need to:\\n        - Exclude content published after a certain date\\n        - Study historical information or past events\\n        - Research how topics were covered during specific time periods\\n        - Combine with start_date to create a custom date range\\n        \\n        Format must be YYYY-MM-DD (e.g., \"2024-03-31\" for March 31, 2024).\\n        \\n        Examples:\\n        - \"2024-03-31\" - Results up to and including March 31, 2024\\n        - \"2023-12-31\" - Results up to and including December 31, 2023\\n        \\n        When combined with start_date, creates a precise date range filter.\\n        For example: start_date=\"2024-01-01\", end_date=\"2024-03-31\" \\n        returns results from Q1 2024 only.\\n        \\n        Default is None (no end date restriction).\\n        '}}, 'required': ['query'], 'type': 'object'}}}, {'type': 'function', 'function': {'name': 'multiply', 'description': 'Multiply a and b', 'parameters': {'properties': {'a': {'description': 'first int', 'type': 'integer'}, 'b': {'description': 'second int', 'type': 'integer'}}, 'required': ['a', 'b'], 'type': 'object'}}}]}, config={}, config_factories=[])"
            ]
          },
          "metadata": {},
          "execution_count": 9
        }
      ]
    },
    {
      "cell_type": "code",
      "source": [
        "## Stategraph\n",
        "from langgraph.graph import StateGraph,START,END\n",
        "from langgraph.prebuilt import ToolNode\n",
        "from langgraph.prebuilt import tools_condition\n",
        "\n",
        "## Node definition\n",
        "def tool_calling_llm(state:State):\n",
        "    return {\"messages\":[llm_with_tool.invoke(state[\"messages\"])]}\n",
        "\n",
        "## Grpah\n",
        "builder=StateGraph(State)\n",
        "builder.add_node(\"tool_calling_llm\",tool_calling_llm)\n",
        "builder.add_node(\"tools\",ToolNode(tools))\n",
        "\n",
        "## Add Edges\n",
        "builder.add_edge(START, \"tool_calling_llm\")\n",
        "builder.add_conditional_edges(\n",
        "    \"tool_calling_llm\",\n",
        "    # If the latest message (result) from assistant is a tool call -> tools_condition routes to tools\n",
        "    # If the latest message (result) from assistant is a not a tool call -> tools_condition routes to END\n",
        "    tools_condition\n",
        ")\n",
        "builder.add_edge(\"tools\",END)\n",
        "\n",
        "## compile the graph\n",
        "graph=builder.compile()\n",
        "\n",
        "from IPython.display import Image, display\n",
        "display(Image(graph.get_graph().draw_mermaid_png()))"
      ],
      "metadata": {
        "colab": {
          "base_uri": "https://localhost:8080/",
          "height": 350
        },
        "id": "6IMjhG-SWEfL",
        "outputId": "39265ef3-1e0e-4958-a44a-082b215c34fa"
      },
      "execution_count": null,
      "outputs": [
        {
          "output_type": "display_data",
          "data": {
            "image/png": "[encoded data removed]",
            "text/plain": [
              "<IPython.core.display.Image object>"
            ]
          },
          "metadata": {}
        }
      ]
    },
    {
      "cell_type": "code",
      "source": [
        "response=graph.invoke({\"messages\":\"What is the recent ai news\"})\n",
        "response['messages'][-1].content"
      ],
      "metadata": {
        "colab": {
          "base_uri": "https://localhost:8080/",
          "height": 143
        },
        "id": "TUrPWw2uWG0s",
        "outputId": "42373f6c-78f4-4fce-a955-332914c74a69"
      },
      "execution_count": null,
      "outputs": [
        {
          "output_type": "execute_result",
          "data": {
            "text/plain": [
              "'{\"query\": \"recent ai news\", \"follow_up_questions\": null, \"answer\": null, \"images\": [\"https://assets.weforum.org/editor/Ktdhn0KNfhbpY_AE77yZFRYJ9zUl9hnFcncbE53QzUQ.PNG\", \"https://blog.tipranks.com/wp-content/uploads/2023/03/shutterstock_1818555053-750x406.jpg\", \"https://image4.slideserve.com/8020153/has-artificial-intelligence-latest-news-helped-l.jpg\", \"https://images.moneycontrol.com/static-mcnews/2023/07/Sana-1-770x433.jpg?impolicy=website&width=770&height=431\", \"https://i.ytimg.com/vi/h5u4bgErk0g/maxresdefault.jpg\"], \"results\": [{\"url\": \"https://www.rswebsols.com/news/adapting-workforce-strategies-in-the-age-of-ai-tapping-into-high-growth-industries-and-job-creation-areas-for-sustainable-investment/\", \"title\": \"Adapting Workforce Strategies in the Age of AI: Tapping into High-Growth Industries and Job-Creation Areas for Sustainable Investment - RS Web Solutions\", \"score\": 0.7847937345504761, \"published_date\": \"Tue, 26 Aug 2025 13:00:00 GMT\", \"content\": \"5. **Generative AI Specialist**: Experts creating tools for content inception, design automation, and inventive problem resolution. For investors, this underscores the importance of strategically prioritizing entities that invest in workforce upskilling and AI research and development, alongside regions fostering vibrant AI ecosystems. 4. **Geographic Diversification**: Cultivate investments in regions exhibiting strong AI ecosystems, including the United States (California, Texas), Europe (Germany’s industrial AI sector), and Asia (Japan’s advancements in robotics). By channeling investments into industries and roles that embrace this synergy, investors can secure enduring value while contributing to a future where AI and human ingenuity coexist harmoniously. Some content was created with help from AI and reviewed by a human for clarity and accuracy.\", \"raw_content\": null}, {\"url\": \"https://www.forbes.com/sites/tonybradley/2025/08/26/how-agentic-ai-could-finally-streamline-the-overworked-soc/\", \"title\": \"How Agentic AI Could Finally Streamline The Overworked SOC - Forbes\", \"score\": 0.7841572761535645, \"published_date\": \"Tue, 26 Aug 2025 10:00:00 GMT\", \"content\": \"Instead of relying on incremental automation, some companies are beginning to introduce agentic SOC platforms aimed at bringing AI into more stages of security operations. The company says its approach is designed to extend AI support across the SOC lifecycle—from threat detection and triage to investigation, hunting and response. “What’s new with generative AI is the ability to stitch signals together and comprehend them almost like a human being.” That ability to layer reasoning on top of raw detection helps filter noise and deliver more actionable insights. The lesson from the Exaforce funding—and from the growing number of companies exploring AI SOC offerings—is that security operations are being reimagined, not just incrementally improved.\", \"raw_content\": null}], \"response_time\": 2.53, \"request_id\": \"5fa2ce28-e70b-4a22-99d0-82f5b1393338\"}'"
            ],
            "application/vnd.google.colaboratory.intrinsic+json": {
              "type": "string"
            }
          },
          "metadata": {},
          "execution_count": 11
        }
      ]
    },
    {
      "cell_type": "code",
      "source": [
        "for m in response['messages']:\n",
        "    m.pretty_print()"
      ],
      "metadata": {
        "colab": {
          "base_uri": "https://localhost:8080/"
        },
        "id": "a5JcBz2DWJCJ",
        "outputId": "a9e1784d-363d-4516-eaeb-c9682903af51"
      },
      "execution_count": null,
      "outputs": [
        {
          "output_type": "stream",
          "name": "stdout",
          "text": [
            "================================\u001b[1m Human Message \u001b[0m=================================\n",
            "\n",
            "What is the recent ai news\n",
            "==================================\u001b[1m Ai Message \u001b[0m==================================\n",
            "Tool Calls:\n",
            "  tavily_search (my64kwhtx)\n",
            " Call ID: my64kwhtx\n",
            "  Args:\n",
            "    end_date: None\n",
            "    exclude_domains: []\n",
            "    include_domains: []\n",
            "    include_favicon: False\n",
            "    include_images: True\n",
            "    query: recent ai news\n",
            "    search_depth: advanced\n",
            "    start_date: None\n",
            "    time_range: day\n",
            "    topic: news\n",
            "=================================\u001b[1m Tool Message \u001b[0m=================================\n",
            "Name: tavily_search\n",
            "\n",
            "{\"query\": \"recent ai news\", \"follow_up_questions\": null, \"answer\": null, \"images\": [\"https://assets.weforum.org/editor/Ktdhn0KNfhbpY_AE77yZFRYJ9zUl9hnFcncbE53QzUQ.PNG\", \"https://blog.tipranks.com/wp-content/uploads/2023/03/shutterstock_1818555053-750x406.jpg\", \"https://image4.slideserve.com/8020153/has-artificial-intelligence-latest-news-helped-l.jpg\", \"https://images.moneycontrol.com/static-mcnews/2023/07/Sana-1-770x433.jpg?impolicy=website&width=770&height=431\", \"https://i.ytimg.com/vi/h5u4bgErk0g/maxresdefault.jpg\"], \"results\": [{\"url\": \"https://www.rswebsols.com/news/adapting-workforce-strategies-in-the-age-of-ai-tapping-into-high-growth-industries-and-job-creation-areas-for-sustainable-investment/\", \"title\": \"Adapting Workforce Strategies in the Age of AI: Tapping into High-Growth Industries and Job-Creation Areas for Sustainable Investment - RS Web Solutions\", \"score\": 0.7847937345504761, \"published_date\": \"Tue, 26 Aug 2025 13:00:00 GMT\", \"content\": \"5. **Generative AI Specialist**: Experts creating tools for content inception, design automation, and inventive problem resolution. For investors, this underscores the importance of strategically prioritizing entities that invest in workforce upskilling and AI research and development, alongside regions fostering vibrant AI ecosystems. 4. **Geographic Diversification**: Cultivate investments in regions exhibiting strong AI ecosystems, including the United States (California, Texas), Europe (Germany’s industrial AI sector), and Asia (Japan’s advancements in robotics). By channeling investments into industries and roles that embrace this synergy, investors can secure enduring value while contributing to a future where AI and human ingenuity coexist harmoniously. Some content was created with help from AI and reviewed by a human for clarity and accuracy.\", \"raw_content\": null}, {\"url\": \"https://www.forbes.com/sites/tonybradley/2025/08/26/how-agentic-ai-could-finally-streamline-the-overworked-soc/\", \"title\": \"How Agentic AI Could Finally Streamline The Overworked SOC - Forbes\", \"score\": 0.7841572761535645, \"published_date\": \"Tue, 26 Aug 2025 10:00:00 GMT\", \"content\": \"Instead of relying on incremental automation, some companies are beginning to introduce agentic SOC platforms aimed at bringing AI into more stages of security operations. The company says its approach is designed to extend AI support across the SOC lifecycle—from threat detection and triage to investigation, hunting and response. “What’s new with generative AI is the ability to stitch signals together and comprehend them almost like a human being.” That ability to layer reasoning on top of raw detection helps filter noise and deliver more actionable insights. The lesson from the Exaforce funding—and from the growing number of companies exploring AI SOC offerings—is that security operations are being reimagined, not just incrementally improved.\", \"raw_content\": null}], \"response_time\": 2.53, \"request_id\": \"5fa2ce28-e70b-4a22-99d0-82f5b1393338\"}\n"
          ]
        }
      ]
    },
    {
      "cell_type": "code",
      "source": [
        "response=graph.invoke({\"messages\":\"What is 5 multiplied by 2\"})\n",
        "for m in response['messages']:\n",
        "    m.pretty_print()"
      ],
      "metadata": {
        "colab": {
          "base_uri": "https://localhost:8080/"
        },
        "id": "19dZUJ7zWQJM",
        "outputId": "6ae540b2-eeaf-4545-b79f-68bc4ad5df4f"
      },
      "execution_count": null,
      "outputs": [
        {
          "output_type": "stream",
          "name": "stdout",
          "text": [
            "================================\u001b[1m Human Message \u001b[0m=================================\n",
            "\n",
            "What is 5 multiplied by 2\n",
            "==================================\u001b[1m Ai Message \u001b[0m==================================\n",
            "Tool Calls:\n",
            "  multiply (9hjcm24af)\n",
            " Call ID: 9hjcm24af\n",
            "  Args:\n",
            "    a: 5\n",
            "    b: 2\n",
            "=================================\u001b[1m Tool Message \u001b[0m=================================\n",
            "Name: multiply\n",
            "\n",
            "10\n"
          ]
        }
      ]
    },
    {
      "cell_type": "code",
      "source": [
        "response=graph.invoke({\"messages\":\"Give me the recent ai news and then multiply 5 by 10\"})\n",
        "for m in response['messages']:\n",
        "    m.pretty_print()"
      ],
      "metadata": {
        "colab": {
          "base_uri": "https://localhost:8080/"
        },
        "id": "L57WG9KcWWNB",
        "outputId": "c91e7b53-1a63-44ce-fa84-abcce34de2f8"
      },
      "execution_count": null,
      "outputs": [
        {
          "output_type": "stream",
          "name": "stdout",
          "text": [
            "================================\u001b[1m Human Message \u001b[0m=================================\n",
            "\n",
            "Give me the recent ai news and then multiply 5 by 10\n",
            "==================================\u001b[1m Ai Message \u001b[0m==================================\n",
            "Tool Calls:\n",
            "  tavily_search (6m4ht6k8x)\n",
            " Call ID: 6m4ht6k8x\n",
            "  Args:\n",
            "    query: recent AI news\n",
            "    search_depth: advanced\n",
            "    topic: news\n",
            "=================================\u001b[1m Tool Message \u001b[0m=================================\n",
            "Name: tavily_search\n",
            "\n",
            "{\"query\": \"recent AI news\", \"follow_up_questions\": null, \"answer\": null, \"images\": [], \"results\": [{\"url\": \"https://www.accountingtoday.com/list/ai-agents-in-intuits-quickbooks-and-other-tech-stories-you-may-have-missed\", \"title\": \"AI agents in QB, and other tech stories you may have missed - Accounting Today\", \"score\": 0.8013424277305603, \"published_date\": \"Wed, 20 Aug 2025 13:30:13 GMT\", \"content\": \"Intuit is introducing agentic AI into QuickBooks, managers are making hiring decisions with AI, making Windows 11 faster, and seven other things that happened in technology this past month, and how they'll impact your clients and your firm. Intuit launched a groundbreaking suite of AI agents embedded in its QuickBooks platform to help businesses automate workflows, gain real-time insights, and improve cash flow. The results showed that 60% of U.S. managers use generative AI tools like ChatGPT, Microsoft Copilot, or Google Gemini to make decisions about their direct reports. OpenAI is reportedly developing its own AI-powered office productivity suite, directly challenging Microsoft 365 and Google Workspace. Rather than replicating Microsoft's feature-rich apps or Google's collaboration tools, OpenAI may lean into generative AI to reinvent how documents are created and edited collaboratively.\", \"raw_content\": null}, {\"url\": \"https://www.fastcompany.com/91384819/what-is-self-evolving-ai-and-why-do-you-need-to-worry-about-it-now-ai-management\", \"title\": \"What is ‘self-evolving AI’? And why is it so scary? - Fast Company\", \"score\": 0.8001542091369629, \"published_date\": \"Wed, 20 Aug 2025 09:59:23 GMT\", \"content\": \"# What is ‘self-evolving AI’? What is self-evolving AI? It’s understandable that business leaders ignore self-evolving AI, because traditionally the issues it raises have been addressed in the context of artificial general intelligence (AGI), something that’s important, but more the province of computer scientists and philosophers. **Self-evolving AI**refers to systems that autonomously modify their own code, parameters, or learning processes, improving within specific domains without human intervention. Once we recognize the possibility of AI take off within narrower domains, it becomes easier to see the huge implications that self-improving AI systems have for business. Organizations face equally serious dangers from their own AI systems evolving beyond control mechanisms. * **Immediate Assessment**: Which AI systems have self-modification capabilities?\", \"raw_content\": null}], \"response_time\": 2.29, \"request_id\": \"c5d35009-aba8-4d1a-8721-8566310770fd\"}\n"
          ]
        }
      ]
    },
    {
      "cell_type": "markdown",
      "source": [
        "# ReAct"
      ],
      "metadata": {
        "id": "S_w9XrbAWZzi"
      }
    },
    {
      "cell_type": "code",
      "source": [
        "## Stategraph\n",
        "from langgraph.graph import StateGraph,START,END\n",
        "from langgraph.prebuilt import ToolNode\n",
        "from langgraph.prebuilt import tools_condition\n",
        "\n",
        "## Node definition\n",
        "def tool_calling_llm(state:State):\n",
        "    return {\"messages\":[llm_with_tool.invoke(state[\"messages\"])]}\n",
        "\n",
        "## Grpah\n",
        "builder=StateGraph(State)\n",
        "builder.add_node(\"tool_calling_llm\",tool_calling_llm)\n",
        "builder.add_node(\"tools\",ToolNode(tools))\n",
        "\n",
        "## Add Edges\n",
        "builder.add_edge(START, \"tool_calling_llm\")\n",
        "builder.add_conditional_edges(\n",
        "    \"tool_calling_llm\",\n",
        "    # If the latest message (result) from assistant is a tool call -> tools_condition routes to tools\n",
        "    # If the latest message (result) from assistant is a not a tool call -> tools_condition routes to END\n",
        "    tools_condition\n",
        ")\n",
        "builder.add_edge(\"tools\",\"tool_calling_llm\")\n",
        "\n",
        "## compile the graph\n",
        "graph=builder.compile()\n",
        "\n",
        "from IPython.display import Image, display\n",
        "display(Image(graph.get_graph().draw_mermaid_png()))"
      ],
      "metadata": {
        "colab": {
          "base_uri": "https://localhost:8080/",
          "height": 266
        },
        "id": "FiAso8atWeR1",
        "outputId": "37ebbb4b-4e50-4b4b-cf86-6440b80e3e6a"
      },
      "execution_count": null,
      "outputs": [
        {
          "output_type": "display_data",
          "data": {
            "image/png": "[encoded data removed]",
            "text/plain": [
              "<IPython.core.display.Image object>"
            ]
          },
          "metadata": {}
        }
      ]
    },
    {
      "cell_type": "code",
      "source": [
        "response=graph.invoke({\"messages\":\"Give me the recent ai news and then multiply 5 by 10\"})\n",
        "for m in response['messages']:\n",
        "    m.pretty_print()"
      ],
      "metadata": {
        "colab": {
          "base_uri": "https://localhost:8080/"
        },
        "id": "gWifzdBl03uE",
        "outputId": "b12427ee-94a9-4617-ef30-60ca587479ff"
      },
      "execution_count": null,
      "outputs": [
        {
          "output_type": "stream",
          "name": "stdout",
          "text": [
            "================================\u001b[1m Human Message \u001b[0m=================================\n",
            "\n",
            "Give me the recent ai news and then multiply 5 by 10\n",
            "==================================\u001b[1m Ai Message \u001b[0m==================================\n",
            "Tool Calls:\n",
            "  tavily_search (101wemsxk)\n",
            " Call ID: 101wemsxk\n",
            "  Args:\n",
            "    query: recent ai news\n",
            "    search_depth: advanced\n",
            "    topic: general\n",
            "=================================\u001b[1m Tool Message \u001b[0m=================================\n",
            "Name: tavily_search\n",
            "\n",
            "{\"query\": \"recent ai news\", \"follow_up_questions\": null, \"answer\": null, \"images\": [], \"results\": [{\"url\": \"https://www.sciencedaily.com/news/computers_math/artificial_intelligence/\", \"title\": \"Artificial Intelligence News - ScienceDaily\", \"content\": \"ScienceDaily\\n\\n# Artificial Intelligence News\\n\\n## Top Headlines\\n\\n## Latest Headlines\\n\\n## Earlier Headlines\\n\\n### Wednesday, May 28, 2025\\n\\n### Tuesday, May 27, 2025\\n\\n### Thursday, May 22, 2025\\n\\n### Wednesday, May 21, 2025\\n\\n### Monday, May 19, 2025\\n\\n### Thursday, May 15, 2025\\n\\n### Wednesday, May 14, 2025\\n\\n### Tuesday, May 13, 2025\\n\\n### Monday, May 12, 2025\\n\\n### Thursday, May 8, 2025\\n\\n### Wednesday, May 7, 2025\\n\\n### Tuesday, May 6, 2025\\n\\n### Monday, May 5, 2025\\n\\n### Thursday, May 1, 2025 [...] ### Wednesday, April 30, 2025\\n\\n### Monday, April 28, 2025\\n\\n### Friday, April 25, 2025\\n\\n### Thursday, April 24, 2025\\n\\n### Wednesday, April 23, 2025\\n\\n### Tuesday, April 22, 2025\\n\\n### Monday, April 21, 2025\\n\\n### Wednesday, April 16, 2025\\n\\n### Tuesday, April 15, 2025\\n\\n### Monday, April 14, 2025\\n\\n### Thursday, April 10, 2025\\n\\n### Wednesday, April 9, 2025\\n\\n### Tuesday, April 8, 2025\\n\\n### Monday, April 7, 2025\\n\\n### Friday, April 4, 2025\\n\\n### Thursday, April 3, 2025\\n\\n### Wednesday, April 2, 2025 [...] ### Monday, March 31, 2025\\n\\n### Friday, March 28, 2025\\n\\n### Thursday, March 27, 2025\\n\\n### Wednesday, March 26, 2025\\n\\n### Tuesday, March 25, 2025\\n\\n### Thursday, March 20, 2025\\n\\n## Breaking\\n\\n## Trending Topics\\n\\n## Strange & Offbeat\\n\\nStay informed with ScienceDaily's free email newsletter, updated daily and weekly. Or view our many newsfeeds in your RSS reader:\\n\\nKeep up to date with the latest news from ScienceDaily via social networks:\", \"score\": 0.7781275, \"raw_content\": null}, {\"url\": \"https://www.crescendo.ai/news/latest-ai-news-and-updates\", \"title\": \"Latest AI Breakthroughs and News: June, July, August 2025\", \"content\": \"Summary: OpenAI and SoftBank are planning to build a small data center by the end of 2025 to support the Stargate AI initiative. The project aims to explore\", \"score\": 0.7166357, \"raw_content\": null}], \"response_time\": 1.87, \"request_id\": \"35efeeea-4c6f-4c57-ae7d-9f037bbedcf8\"}\n",
            "==================================\u001b[1m Ai Message \u001b[0m==================================\n",
            "\n",
            "Now that we have the result of the tool call, let's multiply 5 by 10.\n",
            "\n",
            "5 × 10 = 50\n",
            "\n",
            "So, the answer is 50.\n"
          ]
        }
      ]
    },
    {
      "cell_type": "markdown",
      "source": [
        "#  Adding memory"
      ],
      "metadata": {
        "id": "9u17HOGl1Ryv"
      }
    },
    {
      "cell_type": "code",
      "source": [
        "## Stategraph\n",
        "from langgraph.graph import StateGraph,START,END\n",
        "from langgraph.prebuilt import ToolNode\n",
        "from langgraph.prebuilt import tools_condition\n",
        "from langgraph.checkpoint.memory import MemorySaver\n",
        "\n",
        "memory = MemorySaver()\n",
        "\n",
        "## Node definition\n",
        "def tool_calling_llm(state:State):\n",
        "    return {\"messages\":[llm_with_tool.invoke(state[\"messages\"])]}\n",
        "\n",
        "## Grpah\n",
        "builder=StateGraph(State)\n",
        "builder.add_node(\"tool_calling_llm\",tool_calling_llm)\n",
        "builder.add_node(\"tools\",ToolNode(tools))\n",
        "\n",
        "## Add Edges\n",
        "builder.add_edge(START, \"tool_calling_llm\")\n",
        "builder.add_conditional_edges(\n",
        "    \"tool_calling_llm\",\n",
        "    # If the latest message (result) from assistant is a tool call -> tools_condition routes to tools\n",
        "    # If the latest message (result) from assistant is a not a tool call -> tools_condition routes to END\n",
        "    tools_condition\n",
        ")\n",
        "builder.add_edge(\"tools\",\"tool_calling_llm\")\n",
        "\n",
        "## compile the graph\n",
        "graph=builder.compile(checkpointer=memory)\n",
        "\n",
        "from IPython.display import Image, display\n",
        "display(Image(graph.get_graph().draw_mermaid_png()))"
      ],
      "metadata": {
        "colab": {
          "base_uri": "https://localhost:8080/",
          "height": 266
        },
        "id": "IEdI96Cp1V7q",
        "outputId": "e910e8e7-c830-441a-a9b7-8c9c01230acc"
      },
      "execution_count": null,
      "outputs": [
        {
          "output_type": "display_data",
          "data": {
            "image/png": "[encoded data removed]",
            "text/plain": [
              "<IPython.core.display.Image object>"
            ]
          },
          "metadata": {}
        }
      ]
    },
    {
      "cell_type": "code",
      "source": [
        "config={\"configurable\":{\"thread_id\":\"1\"}}\n",
        "\n",
        "response=graph.invoke({\"messages\":\"Hi my name is Omar \"},config=config)\n",
        "\n",
        "response"
      ],
      "metadata": {
        "colab": {
          "base_uri": "https://localhost:8080/"
        },
        "id": "t0lJXPFU51Vs",
        "outputId": "3c0b1f92-c3c9-4553-f91c-b19687ca7c11"
      },
      "execution_count": null,
      "outputs": [
        {
          "output_type": "execute_result",
          "data": {
            "text/plain": [
              "{'messages': [HumanMessage(content='Hi my name is Omar ', additional_kwargs={}, response_metadata={}, id='aea6ed46-66f4-41d5-b1aa-27526de03212'),\n",
              "  AIMessage(content='Nice to meet you, Omar!', additional_kwargs={}, response_metadata={'token_usage': {'completion_tokens': 8, 'prompt_tokens': 2868, 'total_tokens': 2876, 'completion_time': 0.006778838, 'prompt_time': 0.356185392, 'queue_time': 0.214261523, 'total_time': 0.36296423}, 'model_name': 'llama3-8b-8192', 'system_fingerprint': 'fp_4b5fbf0ced', 'service_tier': 'on_demand', 'finish_reason': 'stop', 'logprobs': None}, id='run--6a09d190-01f3-437e-a641-1b6eb0dae4ae-0', usage_metadata={'input_tokens': 2868, 'output_tokens': 8, 'total_tokens': 2876})]}"
            ]
          },
          "metadata": {},
          "execution_count": 25
        }
      ]
    },
    {
      "cell_type": "code",
      "source": [
        "\n",
        "response['messages'][-1].content"
      ],
      "metadata": {
        "colab": {
          "base_uri": "https://localhost:8080/",
          "height": 35
        },
        "id": "Rdl4glJu67V_",
        "outputId": "55edd2d2-6364-4bda-9d05-df566d21e4cf"
      },
      "execution_count": null,
      "outputs": [
        {
          "output_type": "execute_result",
          "data": {
            "text/plain": [
              "'Nice to meet you, Omar!'"
            ],
            "application/vnd.google.colaboratory.intrinsic+json": {
              "type": "string"
            }
          },
          "metadata": {},
          "execution_count": 26
        }
      ]
    },
    {
      "cell_type": "code",
      "source": [
        "response=graph.invoke({\"messages\":\"Hey what is my name\"},config=config)\n",
        "\n",
        "print(response['messages'][-1].content)"
      ],
      "metadata": {
        "colab": {
          "base_uri": "https://localhost:8080/"
        },
        "id": "4A9DW1cO7Ffn",
        "outputId": "d8ba22bb-0864-4e14-e7da-2354f23b16d2"
      },
      "execution_count": null,
      "outputs": [
        {
          "output_type": "stream",
          "name": "stdout",
          "text": [
            "Your name is Omar.\n"
          ]
        }
      ]
    },
    {
      "cell_type": "markdown",
      "source": [
        "#  Streaming"
      ],
      "metadata": {
        "id": "YJ24psu8-BST"
      }
    },
    {
      "cell_type": "code",
      "source": [
        "from langgraph.checkpoint.memory import MemorySaver\n",
        "memory=MemorySaver()\n",
        "def superbot(state:State):\n",
        "    return {\"messages\":[llm.invoke(state['messages'])]}\n",
        "graph=StateGraph(State)\n",
        "\n",
        "## node\n",
        "graph.add_node(\"SuperBot\",superbot)\n",
        "## Edges\n",
        "\n",
        "graph.add_edge(START,\"SuperBot\")\n",
        "graph.add_edge(\"SuperBot\",END)\n",
        "\n",
        "\n",
        "graph_builder=graph.compile(checkpointer=memory)\n",
        "\n",
        "\n",
        "## Display\n",
        "from IPython.display import Image, display\n",
        "display(Image(graph_builder.get_graph().draw_mermaid_png()))"
      ],
      "metadata": {
        "colab": {
          "base_uri": "https://localhost:8080/",
          "height": 251
        },
        "id": "ETSucpF6-Dqj",
        "outputId": "bd95c9da-edd4-40ac-c9bd-70185a280b4b"
      },
      "execution_count": null,
      "outputs": [
        {
          "output_type": "display_data",
          "data": {
            "image/png": "[encoded data removed]",
            "text/plain": [
              "<IPython.core.display.Image object>"
            ]
          },
          "metadata": {}
        }
      ]
    },
    {
      "cell_type": "code",
      "source": [
        "## Invocation\n",
        "\n",
        "config = {\"configurable\": {\"thread_id\": \"1\"}}\n",
        "\n",
        "graph_builder.invoke({'messages':\"Hi,My name is Omar And I like cricket\"},config)"
      ],
      "metadata": {
        "colab": {
          "base_uri": "https://localhost:8080/"
        },
        "id": "EP-H-7HB-Ef0",
        "outputId": "d7350460-311e-497d-b809-0ff3ee96a621"
      },
      "execution_count": null,
      "outputs": [
        {
          "output_type": "execute_result",
          "data": {
            "text/plain": [
              "{'messages': [HumanMessage(content='Hi,My name is Krish And I like cricket', additional_kwargs={}, response_metadata={}, id='2f7414c1-3eeb-47a6-a808-907c780d32ff'),\n",
              "  AIMessage(content=\"Nice to meet you, Krish! Cricket is a fantastic sport, isn't it? Do you play or watch cricket regularly? Are you a fan of any particular team or player?\", additional_kwargs={}, response_metadata={'token_usage': {'completion_tokens': 37, 'prompt_tokens': 20, 'total_tokens': 57, 'completion_time': 0.032403709, 'prompt_time': 0.004428002, 'queue_time': 0.343472147, 'total_time': 0.036831711}, 'model_name': 'llama3-8b-8192', 'system_fingerprint': 'fp_4b5fbf0ced', 'service_tier': 'on_demand', 'finish_reason': 'stop', 'logprobs': None}, id='run--5c13318b-0a34-47e7-871f-d5890fb86557-0', usage_metadata={'input_tokens': 20, 'output_tokens': 37, 'total_tokens': 57}),\n",
              "  HumanMessage(content='Hi,My name is Omar And I like cricket', additional_kwargs={}, response_metadata={}, id='b6d0af5b-8218-4246-9fe3-3e053a8c25f0'),\n",
              "  AIMessage(content=\"Nice to meet you, Omar! Cricket is a fantastic sport, isn't it? Do you play or watch cricket regularly? Are you a fan of any particular team or player?\", additional_kwargs={}, response_metadata={'token_usage': {'completion_tokens': 37, 'prompt_tokens': 76, 'total_tokens': 113, 'completion_time': 0.032522847, 'prompt_time': 0.009067052, 'queue_time': 0.212152635, 'total_time': 0.041589899}, 'model_name': 'llama3-8b-8192', 'system_fingerprint': 'fp_4b5fbf0ced', 'service_tier': 'on_demand', 'finish_reason': 'stop', 'logprobs': None}, id='run--67932844-7896-4998-a953-788e177fec23-0', usage_metadata={'input_tokens': 76, 'output_tokens': 37, 'total_tokens': 113})]}"
            ]
          },
          "metadata": {},
          "execution_count": 30
        }
      ]
    },
    {
      "cell_type": "code",
      "source": [
        "\n",
        "config = {\"configurable\": {\"thread_id\": \"3\"}}\n",
        "\n",
        "for chunk in graph_builder.stream({'messages':\"Hi,My name is sakr And I like cricket\"},config,stream_mode=\"updates\"):\n",
        "    print(chunk)"
      ],
      "metadata": {
        "colab": {
          "base_uri": "https://localhost:8080/"
        },
        "id": "Vc9yv3wrJOf5",
        "outputId": "2c7a24ff-a35d-4c7e-afb3-0aed8ebe81fc"
      },
      "execution_count": null,
      "outputs": [
        {
          "output_type": "stream",
          "name": "stdout",
          "text": [
            "{'SuperBot': {'messages': [AIMessage(content='Hi Sakr! Nice to meet you! Cricket is a great sport! Which team do you support? Are you a fan of any particular player?', additional_kwargs={}, response_metadata={'token_usage': {'completion_tokens': 31, 'prompt_tokens': 21, 'total_tokens': 52, 'completion_time': 0.027062396, 'prompt_time': 0.005237033, 'queue_time': 0.371300921, 'total_time': 0.032299429}, 'model_name': 'llama3-8b-8192', 'system_fingerprint': 'fp_4b5fbf0ced', 'service_tier': 'on_demand', 'finish_reason': 'stop', 'logprobs': None}, id='run--aec9b12f-ca79-4b52-ae84-75dfc694c835-0', usage_metadata={'input_tokens': 21, 'output_tokens': 31, 'total_tokens': 52})]}}\n"
          ]
        }
      ]
    },
    {
      "cell_type": "code",
      "source": [
        "for chunk in graph_builder.stream({'messages':\"Hi,My name is Krish And I like cricket\"},config,stream_mode=\"values\"):\n",
        "    print(chunk)"
      ],
      "metadata": {
        "colab": {
          "base_uri": "https://localhost:8080/"
        },
        "id": "cLSQCuhyJsWc",
        "outputId": "dc172b3a-2416-47de-dd43-4fb26161a92e"
      },
      "execution_count": null,
      "outputs": [
        {
          "output_type": "stream",
          "name": "stdout",
          "text": [
            "{'messages': [HumanMessage(content='Hi,My name is sakr And I like cricket', additional_kwargs={}, response_metadata={}, id='53e7b006-dcfa-4b25-b3fe-a1374eaad3a9'), AIMessage(content='Hi Sakr! Nice to meet you! Cricket is a great sport! Which team do you support? Are you a fan of any particular player?', additional_kwargs={}, response_metadata={'token_usage': {'completion_tokens': 31, 'prompt_tokens': 21, 'total_tokens': 52, 'completion_time': 0.027062396, 'prompt_time': 0.005237033, 'queue_time': 0.371300921, 'total_time': 0.032299429}, 'model_name': 'llama3-8b-8192', 'system_fingerprint': 'fp_4b5fbf0ced', 'service_tier': 'on_demand', 'finish_reason': 'stop', 'logprobs': None}, id='run--aec9b12f-ca79-4b52-ae84-75dfc694c835-0', usage_metadata={'input_tokens': 21, 'output_tokens': 31, 'total_tokens': 52}), HumanMessage(content='Hi,My name is Krish And I like cricket', additional_kwargs={}, response_metadata={}, id='27e0a5ac-8365-4961-a332-3ccf496b1f72')]}\n",
            "{'messages': [HumanMessage(content='Hi,My name is sakr And I like cricket', additional_kwargs={}, response_metadata={}, id='53e7b006-dcfa-4b25-b3fe-a1374eaad3a9'), AIMessage(content='Hi Sakr! Nice to meet you! Cricket is a great sport! Which team do you support? Are you a fan of any particular player?', additional_kwargs={}, response_metadata={'token_usage': {'completion_tokens': 31, 'prompt_tokens': 21, 'total_tokens': 52, 'completion_time': 0.027062396, 'prompt_time': 0.005237033, 'queue_time': 0.371300921, 'total_time': 0.032299429}, 'model_name': 'llama3-8b-8192', 'system_fingerprint': 'fp_4b5fbf0ced', 'service_tier': 'on_demand', 'finish_reason': 'stop', 'logprobs': None}, id='run--aec9b12f-ca79-4b52-ae84-75dfc694c835-0', usage_metadata={'input_tokens': 21, 'output_tokens': 31, 'total_tokens': 52}), HumanMessage(content='Hi,My name is Krish And I like cricket', additional_kwargs={}, response_metadata={}, id='27e0a5ac-8365-4961-a332-3ccf496b1f72'), AIMessage(content=\"Hi Krish! Nice to meet you! Cricket is a fantastic sport! Which team do you support? Are you a fan of any particular player? By the way, it's interesting that we met two people named Sakr and Krish who like cricket!\", additional_kwargs={}, response_metadata={'token_usage': {'completion_tokens': 51, 'prompt_tokens': 71, 'total_tokens': 122, 'completion_time': 0.045186079, 'prompt_time': 0.008516548, 'queue_time': 0.213594898, 'total_time': 0.053702627}, 'model_name': 'llama3-8b-8192', 'system_fingerprint': 'fp_4b5fbf0ced', 'service_tier': 'on_demand', 'finish_reason': 'stop', 'logprobs': None}, id='run--6675338d-dfde-49f0-aa53-01939f8a1218-0', usage_metadata={'input_tokens': 71, 'output_tokens': 51, 'total_tokens': 122})]}\n"
          ]
        }
      ]
    },
    {
      "cell_type": "code",
      "source": [
        "for chunk in graph_builder.stream({'messages':\"Hi,My name is menna And I like cricket\"},config,stream_mode=\"updates\"):\n",
        "    print(chunk)"
      ],
      "metadata": {
        "colab": {
          "base_uri": "https://localhost:8080/"
        },
        "id": "NXuPAhgdJ1Qx",
        "outputId": "bc98df9d-fe0b-4151-a73d-e44a7861a3d7"
      },
      "execution_count": null,
      "outputs": [
        {
          "output_type": "stream",
          "name": "stdout",
          "text": [
            "{'SuperBot': {'messages': [AIMessage(content=\"Hi Menna! Nice to meet you! Cricket is a great sport, isn't it? Which team do you support? Are you a fan of any particular player? It's amazing to see more people who like cricket! Sakr and Krish are already here, now we have you too!\", additional_kwargs={}, response_metadata={'token_usage': {'completion_tokens': 60, 'prompt_tokens': 142, 'total_tokens': 202, 'completion_time': 0.05266595, 'prompt_time': 0.032541397, 'queue_time': 0.414620435, 'total_time': 0.085207347}, 'model_name': 'llama3-8b-8192', 'system_fingerprint': 'fp_4b5fbf0ced', 'service_tier': 'on_demand', 'finish_reason': 'stop', 'logprobs': None}, id='run--ef02c342-23e9-432a-b083-37bec103cb56-0', usage_metadata={'input_tokens': 142, 'output_tokens': 60, 'total_tokens': 202})]}}\n"
          ]
        }
      ]
    },
    {
      "cell_type": "code",
      "source": [
        "# Create a thread\n",
        "config = {\"configurable\": {\"thread_id\": \"4\"}}\n",
        "\n",
        "for chunk in graph_builder.stream({'messages':\"Hi,My name is Krish And I like cricket\"},config,stream_mode=\"updates\"):\n",
        "    print(chunk)"
      ],
      "metadata": {
        "colab": {
          "base_uri": "https://localhost:8080/"
        },
        "id": "mcO1emMHK1yI",
        "outputId": "8949d02d-c6d0-4e71-cc5a-b0e421d63a3b"
      },
      "execution_count": null,
      "outputs": [
        {
          "output_type": "stream",
          "name": "stdout",
          "text": [
            "{'SuperBot': {'messages': [AIMessage(content=\"Nice to meet you, Krish! Cricket is a great sport, isn't it? Who's your favorite cricketer and team? Are you a fan of Test cricket, ODI, or T20?\", additional_kwargs={}, response_metadata={'token_usage': {'completion_tokens': 43, 'prompt_tokens': 20, 'total_tokens': 63, 'completion_time': 0.03784651, 'prompt_time': 0.008750686, 'queue_time': 0.211682371, 'total_time': 0.046597196}, 'model_name': 'llama3-8b-8192', 'system_fingerprint': 'fp_4b5fbf0ced', 'service_tier': 'on_demand', 'finish_reason': 'stop', 'logprobs': None}, id='run--9d0b874f-3bf1-4504-a1b6-599797d2edda-0', usage_metadata={'input_tokens': 20, 'output_tokens': 43, 'total_tokens': 63})]}}\n"
          ]
        }
      ]
    },
    {
      "cell_type": "code",
      "source": [
        "for chunk in graph_builder.stream({'messages':\"I also like football\"},config,stream_mode=\"values\"):\n",
        "    print(chunk)"
      ],
      "metadata": {
        "colab": {
          "base_uri": "https://localhost:8080/"
        },
        "id": "z-n8Tyt3LL96",
        "outputId": "c8036006-8d8b-4239-9f97-2c69352a470c"
      },
      "execution_count": null,
      "outputs": [
        {
          "output_type": "stream",
          "name": "stdout",
          "text": [
            "{'messages': [HumanMessage(content='Hi,My name is Krish And I like cricket', additional_kwargs={}, response_metadata={}, id='56b51674-a4da-459c-8ca2-56e63c86398f'), AIMessage(content=\"Nice to meet you, Krish! Cricket is a great sport, isn't it? Who's your favorite cricketer and team? Are you a fan of Test cricket, ODI, or T20?\", additional_kwargs={}, response_metadata={'token_usage': {'completion_tokens': 43, 'prompt_tokens': 20, 'total_tokens': 63, 'completion_time': 0.03784651, 'prompt_time': 0.008750686, 'queue_time': 0.211682371, 'total_time': 0.046597196}, 'model_name': 'llama3-8b-8192', 'system_fingerprint': 'fp_4b5fbf0ced', 'service_tier': 'on_demand', 'finish_reason': 'stop', 'logprobs': None}, id='run--9d0b874f-3bf1-4504-a1b6-599797d2edda-0', usage_metadata={'input_tokens': 20, 'output_tokens': 43, 'total_tokens': 63}), HumanMessage(content='I also like football', additional_kwargs={}, response_metadata={}, id='c89d2bfa-7551-48b7-83cb-756ba6ad44e9')]}\n",
            "{'messages': [HumanMessage(content='Hi,My name is Krish And I like cricket', additional_kwargs={}, response_metadata={}, id='56b51674-a4da-459c-8ca2-56e63c86398f'), AIMessage(content=\"Nice to meet you, Krish! Cricket is a great sport, isn't it? Who's your favorite cricketer and team? Are you a fan of Test cricket, ODI, or T20?\", additional_kwargs={}, response_metadata={'token_usage': {'completion_tokens': 43, 'prompt_tokens': 20, 'total_tokens': 63, 'completion_time': 0.03784651, 'prompt_time': 0.008750686, 'queue_time': 0.211682371, 'total_time': 0.046597196}, 'model_name': 'llama3-8b-8192', 'system_fingerprint': 'fp_4b5fbf0ced', 'service_tier': 'on_demand', 'finish_reason': 'stop', 'logprobs': None}, id='run--9d0b874f-3bf1-4504-a1b6-599797d2edda-0', usage_metadata={'input_tokens': 20, 'output_tokens': 43, 'total_tokens': 63}), HumanMessage(content='I also like football', additional_kwargs={}, response_metadata={}, id='c89d2bfa-7551-48b7-83cb-756ba6ad44e9'), AIMessage(content=\"A great combination! Cricket and football are two of the most popular sports in the world, and it's awesome that you enjoy both! Do you have a favorite football team or player? Are you a fan of the Indian Super League (ISL) or the English Premier League?\", additional_kwargs={}, response_metadata={'token_usage': {'completion_tokens': 57, 'prompt_tokens': 76, 'total_tokens': 133, 'completion_time': 0.050265705, 'prompt_time': 0.016736818, 'queue_time': 0.459716083, 'total_time': 0.067002523}, 'model_name': 'llama3-8b-8192', 'system_fingerprint': 'fp_4b5fbf0ced', 'service_tier': 'on_demand', 'finish_reason': 'stop', 'logprobs': None}, id='run--91fcaa93-010c-46ee-85fb-c81cf6ee7320-0', usage_metadata={'input_tokens': 76, 'output_tokens': 57, 'total_tokens': 133})]}\n"
          ]
        }
      ]
    },
    {
      "cell_type": "code",
      "source": [],
      "metadata": {
        "id": "Bf0uRYsFLO2g"
      },
      "execution_count": null,
      "outputs": []
    },
    {
      "cell_type": "markdown",
      "source": [
        "https://xmind.ai/share/CHRMJ3ce"
      ],
      "metadata": {
        "id": "75eQI7RjX--o"
      }
    },
    {
      "cell_type": "code",
      "source": [],
      "metadata": {
        "id": "kRVnnxUbX_t4"
      },
      "execution_count": null,
      "outputs": []
    }
  ]
}